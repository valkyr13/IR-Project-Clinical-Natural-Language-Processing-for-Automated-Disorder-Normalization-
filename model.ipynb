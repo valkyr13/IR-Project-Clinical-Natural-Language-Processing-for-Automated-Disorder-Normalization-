{
  "nbformat": 4,
  "nbformat_minor": 0,
  "metadata": {
    "kernelspec": {
      "display_name": "Python 3",
      "language": "python",
      "name": "python3"
    },
    "language_info": {
      "codemirror_mode": {
        "name": "ipython",
        "version": 3
      },
      "file_extension": ".py",
      "mimetype": "text/x-python",
      "name": "python",
      "nbconvert_exporter": "python",
      "pygments_lexer": "ipython3",
      "version": "3.6.5"
    },
    "colab": {
      "name": "model.ipynb",
      "provenance": []
    },
    "widgets": {
      "application/vnd.jupyter.widget-state+json": {
        "690197ebf8b94c158e2920dad29784b9": {
          "model_module": "@jupyter-widgets/controls",
          "model_name": "HBoxModel",
          "state": {
            "_view_name": "HBoxView",
            "_dom_classes": [],
            "_model_name": "HBoxModel",
            "_view_module": "@jupyter-widgets/controls",
            "_model_module_version": "1.5.0",
            "_view_count": null,
            "_view_module_version": "1.5.0",
            "box_style": "",
            "layout": "IPY_MODEL_8eaa857b5658434f902a2d1ca84ac9fd",
            "_model_module": "@jupyter-widgets/controls",
            "children": [
              "IPY_MODEL_09c8f446ded94566b361be6a4e8e8264",
              "IPY_MODEL_333cf76f28fd4c75be1026feee7337e7"
            ]
          }
        },
        "8eaa857b5658434f902a2d1ca84ac9fd": {
          "model_module": "@jupyter-widgets/base",
          "model_name": "LayoutModel",
          "state": {
            "_view_name": "LayoutView",
            "grid_template_rows": null,
            "right": null,
            "justify_content": null,
            "_view_module": "@jupyter-widgets/base",
            "overflow": null,
            "_model_module_version": "1.2.0",
            "_view_count": null,
            "flex_flow": null,
            "width": null,
            "min_width": null,
            "border": null,
            "align_items": null,
            "bottom": null,
            "_model_module": "@jupyter-widgets/base",
            "top": null,
            "grid_column": null,
            "overflow_y": null,
            "overflow_x": null,
            "grid_auto_flow": null,
            "grid_area": null,
            "grid_template_columns": null,
            "flex": null,
            "_model_name": "LayoutModel",
            "justify_items": null,
            "grid_row": null,
            "max_height": null,
            "align_content": null,
            "visibility": null,
            "align_self": null,
            "height": null,
            "min_height": null,
            "padding": null,
            "grid_auto_rows": null,
            "grid_gap": null,
            "max_width": null,
            "order": null,
            "_view_module_version": "1.2.0",
            "grid_template_areas": null,
            "object_position": null,
            "object_fit": null,
            "grid_auto_columns": null,
            "margin": null,
            "display": null,
            "left": null
          }
        },
        "09c8f446ded94566b361be6a4e8e8264": {
          "model_module": "@jupyter-widgets/controls",
          "model_name": "FloatProgressModel",
          "state": {
            "_view_name": "ProgressView",
            "style": "IPY_MODEL_b5a09be8ea1b49ebb7bbf9353a3f8185",
            "_dom_classes": [],
            "description": "",
            "_model_name": "FloatProgressModel",
            "bar_style": "success",
            "max": 1,
            "_view_module": "@jupyter-widgets/controls",
            "_model_module_version": "1.5.0",
            "value": 1,
            "_view_count": null,
            "_view_module_version": "1.5.0",
            "orientation": "horizontal",
            "min": 0,
            "description_tooltip": null,
            "_model_module": "@jupyter-widgets/controls",
            "layout": "IPY_MODEL_d83aa7bf1697407cbf85669ea795ac30"
          }
        },
        "333cf76f28fd4c75be1026feee7337e7": {
          "model_module": "@jupyter-widgets/controls",
          "model_name": "HTMLModel",
          "state": {
            "_view_name": "HTMLView",
            "style": "IPY_MODEL_4f1c68162ebf4f1fae2dd1690b305e75",
            "_dom_classes": [],
            "description": "",
            "_model_name": "HTMLModel",
            "placeholder": "​",
            "_view_module": "@jupyter-widgets/controls",
            "_model_module_version": "1.5.0",
            "value": " 5249/? [12:23&lt;00:00,  7.06it/s]",
            "_view_count": null,
            "_view_module_version": "1.5.0",
            "description_tooltip": null,
            "_model_module": "@jupyter-widgets/controls",
            "layout": "IPY_MODEL_40b2d11799334463a210bf9d34e95a1b"
          }
        },
        "b5a09be8ea1b49ebb7bbf9353a3f8185": {
          "model_module": "@jupyter-widgets/controls",
          "model_name": "ProgressStyleModel",
          "state": {
            "_view_name": "StyleView",
            "_model_name": "ProgressStyleModel",
            "description_width": "initial",
            "_view_module": "@jupyter-widgets/base",
            "_model_module_version": "1.5.0",
            "_view_count": null,
            "_view_module_version": "1.2.0",
            "bar_color": null,
            "_model_module": "@jupyter-widgets/controls"
          }
        },
        "d83aa7bf1697407cbf85669ea795ac30": {
          "model_module": "@jupyter-widgets/base",
          "model_name": "LayoutModel",
          "state": {
            "_view_name": "LayoutView",
            "grid_template_rows": null,
            "right": null,
            "justify_content": null,
            "_view_module": "@jupyter-widgets/base",
            "overflow": null,
            "_model_module_version": "1.2.0",
            "_view_count": null,
            "flex_flow": null,
            "width": null,
            "min_width": null,
            "border": null,
            "align_items": null,
            "bottom": null,
            "_model_module": "@jupyter-widgets/base",
            "top": null,
            "grid_column": null,
            "overflow_y": null,
            "overflow_x": null,
            "grid_auto_flow": null,
            "grid_area": null,
            "grid_template_columns": null,
            "flex": null,
            "_model_name": "LayoutModel",
            "justify_items": null,
            "grid_row": null,
            "max_height": null,
            "align_content": null,
            "visibility": null,
            "align_self": null,
            "height": null,
            "min_height": null,
            "padding": null,
            "grid_auto_rows": null,
            "grid_gap": null,
            "max_width": null,
            "order": null,
            "_view_module_version": "1.2.0",
            "grid_template_areas": null,
            "object_position": null,
            "object_fit": null,
            "grid_auto_columns": null,
            "margin": null,
            "display": null,
            "left": null
          }
        },
        "4f1c68162ebf4f1fae2dd1690b305e75": {
          "model_module": "@jupyter-widgets/controls",
          "model_name": "DescriptionStyleModel",
          "state": {
            "_view_name": "StyleView",
            "_model_name": "DescriptionStyleModel",
            "description_width": "",
            "_view_module": "@jupyter-widgets/base",
            "_model_module_version": "1.5.0",
            "_view_count": null,
            "_view_module_version": "1.2.0",
            "_model_module": "@jupyter-widgets/controls"
          }
        },
        "40b2d11799334463a210bf9d34e95a1b": {
          "model_module": "@jupyter-widgets/base",
          "model_name": "LayoutModel",
          "state": {
            "_view_name": "LayoutView",
            "grid_template_rows": null,
            "right": null,
            "justify_content": null,
            "_view_module": "@jupyter-widgets/base",
            "overflow": null,
            "_model_module_version": "1.2.0",
            "_view_count": null,
            "flex_flow": null,
            "width": null,
            "min_width": null,
            "border": null,
            "align_items": null,
            "bottom": null,
            "_model_module": "@jupyter-widgets/base",
            "top": null,
            "grid_column": null,
            "overflow_y": null,
            "overflow_x": null,
            "grid_auto_flow": null,
            "grid_area": null,
            "grid_template_columns": null,
            "flex": null,
            "_model_name": "LayoutModel",
            "justify_items": null,
            "grid_row": null,
            "max_height": null,
            "align_content": null,
            "visibility": null,
            "align_self": null,
            "height": null,
            "min_height": null,
            "padding": null,
            "grid_auto_rows": null,
            "grid_gap": null,
            "max_width": null,
            "order": null,
            "_view_module_version": "1.2.0",
            "grid_template_areas": null,
            "object_position": null,
            "object_fit": null,
            "grid_auto_columns": null,
            "margin": null,
            "display": null,
            "left": null
          }
        },
        "370f11d93a2242eab1e23e14db141852": {
          "model_module": "@jupyter-widgets/controls",
          "model_name": "HBoxModel",
          "state": {
            "_view_name": "HBoxView",
            "_dom_classes": [],
            "_model_name": "HBoxModel",
            "_view_module": "@jupyter-widgets/controls",
            "_model_module_version": "1.5.0",
            "_view_count": null,
            "_view_module_version": "1.5.0",
            "box_style": "",
            "layout": "IPY_MODEL_5ba5a054f6e04f7bb10aba2731c955b0",
            "_model_module": "@jupyter-widgets/controls",
            "children": [
              "IPY_MODEL_09ad0d31ff4345e58af5b4f313e6128b",
              "IPY_MODEL_25cb6d812e0646f2a918cd997627787a"
            ]
          }
        },
        "5ba5a054f6e04f7bb10aba2731c955b0": {
          "model_module": "@jupyter-widgets/base",
          "model_name": "LayoutModel",
          "state": {
            "_view_name": "LayoutView",
            "grid_template_rows": null,
            "right": null,
            "justify_content": null,
            "_view_module": "@jupyter-widgets/base",
            "overflow": null,
            "_model_module_version": "1.2.0",
            "_view_count": null,
            "flex_flow": null,
            "width": null,
            "min_width": null,
            "border": null,
            "align_items": null,
            "bottom": null,
            "_model_module": "@jupyter-widgets/base",
            "top": null,
            "grid_column": null,
            "overflow_y": null,
            "overflow_x": null,
            "grid_auto_flow": null,
            "grid_area": null,
            "grid_template_columns": null,
            "flex": null,
            "_model_name": "LayoutModel",
            "justify_items": null,
            "grid_row": null,
            "max_height": null,
            "align_content": null,
            "visibility": null,
            "align_self": null,
            "height": null,
            "min_height": null,
            "padding": null,
            "grid_auto_rows": null,
            "grid_gap": null,
            "max_width": null,
            "order": null,
            "_view_module_version": "1.2.0",
            "grid_template_areas": null,
            "object_position": null,
            "object_fit": null,
            "grid_auto_columns": null,
            "margin": null,
            "display": null,
            "left": null
          }
        },
        "09ad0d31ff4345e58af5b4f313e6128b": {
          "model_module": "@jupyter-widgets/controls",
          "model_name": "FloatProgressModel",
          "state": {
            "_view_name": "ProgressView",
            "style": "IPY_MODEL_efccca2e6ea446159e5a11159f327852",
            "_dom_classes": [],
            "description": "",
            "_model_name": "FloatProgressModel",
            "bar_style": "success",
            "max": 1,
            "_view_module": "@jupyter-widgets/controls",
            "_model_module_version": "1.5.0",
            "value": 1,
            "_view_count": null,
            "_view_module_version": "1.5.0",
            "orientation": "horizontal",
            "min": 0,
            "description_tooltip": null,
            "_model_module": "@jupyter-widgets/controls",
            "layout": "IPY_MODEL_318e1d75093e47019ecc74d0cd74e894"
          }
        },
        "25cb6d812e0646f2a918cd997627787a": {
          "model_module": "@jupyter-widgets/controls",
          "model_name": "HTMLModel",
          "state": {
            "_view_name": "HTMLView",
            "style": "IPY_MODEL_b484fcce0d8e4862b1928870649dca8e",
            "_dom_classes": [],
            "description": "",
            "_model_name": "HTMLModel",
            "placeholder": "​",
            "_view_module": "@jupyter-widgets/controls",
            "_model_module_version": "1.5.0",
            "value": " 5249/? [14:02&lt;00:00,  6.23it/s]",
            "_view_count": null,
            "_view_module_version": "1.5.0",
            "description_tooltip": null,
            "_model_module": "@jupyter-widgets/controls",
            "layout": "IPY_MODEL_2e60fd9af6cf4e17bb9758276dffa1eb"
          }
        },
        "efccca2e6ea446159e5a11159f327852": {
          "model_module": "@jupyter-widgets/controls",
          "model_name": "ProgressStyleModel",
          "state": {
            "_view_name": "StyleView",
            "_model_name": "ProgressStyleModel",
            "description_width": "initial",
            "_view_module": "@jupyter-widgets/base",
            "_model_module_version": "1.5.0",
            "_view_count": null,
            "_view_module_version": "1.2.0",
            "bar_color": null,
            "_model_module": "@jupyter-widgets/controls"
          }
        },
        "318e1d75093e47019ecc74d0cd74e894": {
          "model_module": "@jupyter-widgets/base",
          "model_name": "LayoutModel",
          "state": {
            "_view_name": "LayoutView",
            "grid_template_rows": null,
            "right": null,
            "justify_content": null,
            "_view_module": "@jupyter-widgets/base",
            "overflow": null,
            "_model_module_version": "1.2.0",
            "_view_count": null,
            "flex_flow": null,
            "width": null,
            "min_width": null,
            "border": null,
            "align_items": null,
            "bottom": null,
            "_model_module": "@jupyter-widgets/base",
            "top": null,
            "grid_column": null,
            "overflow_y": null,
            "overflow_x": null,
            "grid_auto_flow": null,
            "grid_area": null,
            "grid_template_columns": null,
            "flex": null,
            "_model_name": "LayoutModel",
            "justify_items": null,
            "grid_row": null,
            "max_height": null,
            "align_content": null,
            "visibility": null,
            "align_self": null,
            "height": null,
            "min_height": null,
            "padding": null,
            "grid_auto_rows": null,
            "grid_gap": null,
            "max_width": null,
            "order": null,
            "_view_module_version": "1.2.0",
            "grid_template_areas": null,
            "object_position": null,
            "object_fit": null,
            "grid_auto_columns": null,
            "margin": null,
            "display": null,
            "left": null
          }
        },
        "b484fcce0d8e4862b1928870649dca8e": {
          "model_module": "@jupyter-widgets/controls",
          "model_name": "DescriptionStyleModel",
          "state": {
            "_view_name": "StyleView",
            "_model_name": "DescriptionStyleModel",
            "description_width": "",
            "_view_module": "@jupyter-widgets/base",
            "_model_module_version": "1.5.0",
            "_view_count": null,
            "_view_module_version": "1.2.0",
            "_model_module": "@jupyter-widgets/controls"
          }
        },
        "2e60fd9af6cf4e17bb9758276dffa1eb": {
          "model_module": "@jupyter-widgets/base",
          "model_name": "LayoutModel",
          "state": {
            "_view_name": "LayoutView",
            "grid_template_rows": null,
            "right": null,
            "justify_content": null,
            "_view_module": "@jupyter-widgets/base",
            "overflow": null,
            "_model_module_version": "1.2.0",
            "_view_count": null,
            "flex_flow": null,
            "width": null,
            "min_width": null,
            "border": null,
            "align_items": null,
            "bottom": null,
            "_model_module": "@jupyter-widgets/base",
            "top": null,
            "grid_column": null,
            "overflow_y": null,
            "overflow_x": null,
            "grid_auto_flow": null,
            "grid_area": null,
            "grid_template_columns": null,
            "flex": null,
            "_model_name": "LayoutModel",
            "justify_items": null,
            "grid_row": null,
            "max_height": null,
            "align_content": null,
            "visibility": null,
            "align_self": null,
            "height": null,
            "min_height": null,
            "padding": null,
            "grid_auto_rows": null,
            "grid_gap": null,
            "max_width": null,
            "order": null,
            "_view_module_version": "1.2.0",
            "grid_template_areas": null,
            "object_position": null,
            "object_fit": null,
            "grid_auto_columns": null,
            "margin": null,
            "display": null,
            "left": null
          }
        },
        "af608b4440fe44de9305bfb4e204bf3b": {
          "model_module": "@jupyter-widgets/controls",
          "model_name": "HBoxModel",
          "state": {
            "_view_name": "HBoxView",
            "_dom_classes": [],
            "_model_name": "HBoxModel",
            "_view_module": "@jupyter-widgets/controls",
            "_model_module_version": "1.5.0",
            "_view_count": null,
            "_view_module_version": "1.5.0",
            "box_style": "",
            "layout": "IPY_MODEL_ac1959dbc3ce426fa0411396a964e6b3",
            "_model_module": "@jupyter-widgets/controls",
            "children": [
              "IPY_MODEL_1751ef919aea423b938aa970188e5d0b",
              "IPY_MODEL_4602cf24a1a6499587930ffd40b7f09b"
            ]
          }
        },
        "ac1959dbc3ce426fa0411396a964e6b3": {
          "model_module": "@jupyter-widgets/base",
          "model_name": "LayoutModel",
          "state": {
            "_view_name": "LayoutView",
            "grid_template_rows": null,
            "right": null,
            "justify_content": null,
            "_view_module": "@jupyter-widgets/base",
            "overflow": null,
            "_model_module_version": "1.2.0",
            "_view_count": null,
            "flex_flow": null,
            "width": null,
            "min_width": null,
            "border": null,
            "align_items": null,
            "bottom": null,
            "_model_module": "@jupyter-widgets/base",
            "top": null,
            "grid_column": null,
            "overflow_y": null,
            "overflow_x": null,
            "grid_auto_flow": null,
            "grid_area": null,
            "grid_template_columns": null,
            "flex": null,
            "_model_name": "LayoutModel",
            "justify_items": null,
            "grid_row": null,
            "max_height": null,
            "align_content": null,
            "visibility": null,
            "align_self": null,
            "height": null,
            "min_height": null,
            "padding": null,
            "grid_auto_rows": null,
            "grid_gap": null,
            "max_width": null,
            "order": null,
            "_view_module_version": "1.2.0",
            "grid_template_areas": null,
            "object_position": null,
            "object_fit": null,
            "grid_auto_columns": null,
            "margin": null,
            "display": null,
            "left": null
          }
        },
        "1751ef919aea423b938aa970188e5d0b": {
          "model_module": "@jupyter-widgets/controls",
          "model_name": "FloatProgressModel",
          "state": {
            "_view_name": "ProgressView",
            "style": "IPY_MODEL_5efd577288a44c9bbefae28f1a766eb3",
            "_dom_classes": [],
            "description": "",
            "_model_name": "FloatProgressModel",
            "bar_style": "success",
            "max": 1,
            "_view_module": "@jupyter-widgets/controls",
            "_model_module_version": "1.5.0",
            "value": 1,
            "_view_count": null,
            "_view_module_version": "1.5.0",
            "orientation": "horizontal",
            "min": 0,
            "description_tooltip": null,
            "_model_module": "@jupyter-widgets/controls",
            "layout": "IPY_MODEL_c8e9d8798dfc4ec8ac23be0df449c312"
          }
        },
        "4602cf24a1a6499587930ffd40b7f09b": {
          "model_module": "@jupyter-widgets/controls",
          "model_name": "HTMLModel",
          "state": {
            "_view_name": "HTMLView",
            "style": "IPY_MODEL_2f3e8b5e3d51409dbdbdc6ba26d811f8",
            "_dom_classes": [],
            "description": "",
            "_model_name": "HTMLModel",
            "placeholder": "​",
            "_view_module": "@jupyter-widgets/controls",
            "_model_module_version": "1.5.0",
            "value": " 5249/? [13:00&lt;00:00,  6.73it/s]",
            "_view_count": null,
            "_view_module_version": "1.5.0",
            "description_tooltip": null,
            "_model_module": "@jupyter-widgets/controls",
            "layout": "IPY_MODEL_4e11e9de22b442738b65a8c31a5f0d11"
          }
        },
        "5efd577288a44c9bbefae28f1a766eb3": {
          "model_module": "@jupyter-widgets/controls",
          "model_name": "ProgressStyleModel",
          "state": {
            "_view_name": "StyleView",
            "_model_name": "ProgressStyleModel",
            "description_width": "initial",
            "_view_module": "@jupyter-widgets/base",
            "_model_module_version": "1.5.0",
            "_view_count": null,
            "_view_module_version": "1.2.0",
            "bar_color": null,
            "_model_module": "@jupyter-widgets/controls"
          }
        },
        "c8e9d8798dfc4ec8ac23be0df449c312": {
          "model_module": "@jupyter-widgets/base",
          "model_name": "LayoutModel",
          "state": {
            "_view_name": "LayoutView",
            "grid_template_rows": null,
            "right": null,
            "justify_content": null,
            "_view_module": "@jupyter-widgets/base",
            "overflow": null,
            "_model_module_version": "1.2.0",
            "_view_count": null,
            "flex_flow": null,
            "width": null,
            "min_width": null,
            "border": null,
            "align_items": null,
            "bottom": null,
            "_model_module": "@jupyter-widgets/base",
            "top": null,
            "grid_column": null,
            "overflow_y": null,
            "overflow_x": null,
            "grid_auto_flow": null,
            "grid_area": null,
            "grid_template_columns": null,
            "flex": null,
            "_model_name": "LayoutModel",
            "justify_items": null,
            "grid_row": null,
            "max_height": null,
            "align_content": null,
            "visibility": null,
            "align_self": null,
            "height": null,
            "min_height": null,
            "padding": null,
            "grid_auto_rows": null,
            "grid_gap": null,
            "max_width": null,
            "order": null,
            "_view_module_version": "1.2.0",
            "grid_template_areas": null,
            "object_position": null,
            "object_fit": null,
            "grid_auto_columns": null,
            "margin": null,
            "display": null,
            "left": null
          }
        },
        "2f3e8b5e3d51409dbdbdc6ba26d811f8": {
          "model_module": "@jupyter-widgets/controls",
          "model_name": "DescriptionStyleModel",
          "state": {
            "_view_name": "StyleView",
            "_model_name": "DescriptionStyleModel",
            "description_width": "",
            "_view_module": "@jupyter-widgets/base",
            "_model_module_version": "1.5.0",
            "_view_count": null,
            "_view_module_version": "1.2.0",
            "_model_module": "@jupyter-widgets/controls"
          }
        },
        "4e11e9de22b442738b65a8c31a5f0d11": {
          "model_module": "@jupyter-widgets/base",
          "model_name": "LayoutModel",
          "state": {
            "_view_name": "LayoutView",
            "grid_template_rows": null,
            "right": null,
            "justify_content": null,
            "_view_module": "@jupyter-widgets/base",
            "overflow": null,
            "_model_module_version": "1.2.0",
            "_view_count": null,
            "flex_flow": null,
            "width": null,
            "min_width": null,
            "border": null,
            "align_items": null,
            "bottom": null,
            "_model_module": "@jupyter-widgets/base",
            "top": null,
            "grid_column": null,
            "overflow_y": null,
            "overflow_x": null,
            "grid_auto_flow": null,
            "grid_area": null,
            "grid_template_columns": null,
            "flex": null,
            "_model_name": "LayoutModel",
            "justify_items": null,
            "grid_row": null,
            "max_height": null,
            "align_content": null,
            "visibility": null,
            "align_self": null,
            "height": null,
            "min_height": null,
            "padding": null,
            "grid_auto_rows": null,
            "grid_gap": null,
            "max_width": null,
            "order": null,
            "_view_module_version": "1.2.0",
            "grid_template_areas": null,
            "object_position": null,
            "object_fit": null,
            "grid_auto_columns": null,
            "margin": null,
            "display": null,
            "left": null
          }
        },
        "8c2f65d792a545d3a39f70c413c38195": {
          "model_module": "@jupyter-widgets/controls",
          "model_name": "HBoxModel",
          "state": {
            "_view_name": "HBoxView",
            "_dom_classes": [],
            "_model_name": "HBoxModel",
            "_view_module": "@jupyter-widgets/controls",
            "_model_module_version": "1.5.0",
            "_view_count": null,
            "_view_module_version": "1.5.0",
            "box_style": "",
            "layout": "IPY_MODEL_8745d2154c0f4f1f946a328c3dd09941",
            "_model_module": "@jupyter-widgets/controls",
            "children": [
              "IPY_MODEL_7f75594acd7c4a0db53a088580e55093",
              "IPY_MODEL_50bac33d54004d38a79c8ba586ee40e3"
            ]
          }
        },
        "8745d2154c0f4f1f946a328c3dd09941": {
          "model_module": "@jupyter-widgets/base",
          "model_name": "LayoutModel",
          "state": {
            "_view_name": "LayoutView",
            "grid_template_rows": null,
            "right": null,
            "justify_content": null,
            "_view_module": "@jupyter-widgets/base",
            "overflow": null,
            "_model_module_version": "1.2.0",
            "_view_count": null,
            "flex_flow": null,
            "width": null,
            "min_width": null,
            "border": null,
            "align_items": null,
            "bottom": null,
            "_model_module": "@jupyter-widgets/base",
            "top": null,
            "grid_column": null,
            "overflow_y": null,
            "overflow_x": null,
            "grid_auto_flow": null,
            "grid_area": null,
            "grid_template_columns": null,
            "flex": null,
            "_model_name": "LayoutModel",
            "justify_items": null,
            "grid_row": null,
            "max_height": null,
            "align_content": null,
            "visibility": null,
            "align_self": null,
            "height": null,
            "min_height": null,
            "padding": null,
            "grid_auto_rows": null,
            "grid_gap": null,
            "max_width": null,
            "order": null,
            "_view_module_version": "1.2.0",
            "grid_template_areas": null,
            "object_position": null,
            "object_fit": null,
            "grid_auto_columns": null,
            "margin": null,
            "display": null,
            "left": null
          }
        },
        "7f75594acd7c4a0db53a088580e55093": {
          "model_module": "@jupyter-widgets/controls",
          "model_name": "FloatProgressModel",
          "state": {
            "_view_name": "ProgressView",
            "style": "IPY_MODEL_d28bd475fede41829bf8d335c2a4b280",
            "_dom_classes": [],
            "description": "",
            "_model_name": "FloatProgressModel",
            "bar_style": "success",
            "max": 1,
            "_view_module": "@jupyter-widgets/controls",
            "_model_module_version": "1.5.0",
            "value": 1,
            "_view_count": null,
            "_view_module_version": "1.5.0",
            "orientation": "horizontal",
            "min": 0,
            "description_tooltip": null,
            "_model_module": "@jupyter-widgets/controls",
            "layout": "IPY_MODEL_05e5a6e90f164ee795c5e31b320a9927"
          }
        },
        "50bac33d54004d38a79c8ba586ee40e3": {
          "model_module": "@jupyter-widgets/controls",
          "model_name": "HTMLModel",
          "state": {
            "_view_name": "HTMLView",
            "style": "IPY_MODEL_26554804ca2945d3829ab739b2b340e6",
            "_dom_classes": [],
            "description": "",
            "_model_name": "HTMLModel",
            "placeholder": "​",
            "_view_module": "@jupyter-widgets/controls",
            "_model_module_version": "1.5.0",
            "value": " 5249/? [14:07&lt;00:00,  6.20it/s]",
            "_view_count": null,
            "_view_module_version": "1.5.0",
            "description_tooltip": null,
            "_model_module": "@jupyter-widgets/controls",
            "layout": "IPY_MODEL_738b4c2aba3d4050ad9889fe083b464f"
          }
        },
        "d28bd475fede41829bf8d335c2a4b280": {
          "model_module": "@jupyter-widgets/controls",
          "model_name": "ProgressStyleModel",
          "state": {
            "_view_name": "StyleView",
            "_model_name": "ProgressStyleModel",
            "description_width": "initial",
            "_view_module": "@jupyter-widgets/base",
            "_model_module_version": "1.5.0",
            "_view_count": null,
            "_view_module_version": "1.2.0",
            "bar_color": null,
            "_model_module": "@jupyter-widgets/controls"
          }
        },
        "05e5a6e90f164ee795c5e31b320a9927": {
          "model_module": "@jupyter-widgets/base",
          "model_name": "LayoutModel",
          "state": {
            "_view_name": "LayoutView",
            "grid_template_rows": null,
            "right": null,
            "justify_content": null,
            "_view_module": "@jupyter-widgets/base",
            "overflow": null,
            "_model_module_version": "1.2.0",
            "_view_count": null,
            "flex_flow": null,
            "width": null,
            "min_width": null,
            "border": null,
            "align_items": null,
            "bottom": null,
            "_model_module": "@jupyter-widgets/base",
            "top": null,
            "grid_column": null,
            "overflow_y": null,
            "overflow_x": null,
            "grid_auto_flow": null,
            "grid_area": null,
            "grid_template_columns": null,
            "flex": null,
            "_model_name": "LayoutModel",
            "justify_items": null,
            "grid_row": null,
            "max_height": null,
            "align_content": null,
            "visibility": null,
            "align_self": null,
            "height": null,
            "min_height": null,
            "padding": null,
            "grid_auto_rows": null,
            "grid_gap": null,
            "max_width": null,
            "order": null,
            "_view_module_version": "1.2.0",
            "grid_template_areas": null,
            "object_position": null,
            "object_fit": null,
            "grid_auto_columns": null,
            "margin": null,
            "display": null,
            "left": null
          }
        },
        "26554804ca2945d3829ab739b2b340e6": {
          "model_module": "@jupyter-widgets/controls",
          "model_name": "DescriptionStyleModel",
          "state": {
            "_view_name": "StyleView",
            "_model_name": "DescriptionStyleModel",
            "description_width": "",
            "_view_module": "@jupyter-widgets/base",
            "_model_module_version": "1.5.0",
            "_view_count": null,
            "_view_module_version": "1.2.0",
            "_model_module": "@jupyter-widgets/controls"
          }
        },
        "738b4c2aba3d4050ad9889fe083b464f": {
          "model_module": "@jupyter-widgets/base",
          "model_name": "LayoutModel",
          "state": {
            "_view_name": "LayoutView",
            "grid_template_rows": null,
            "right": null,
            "justify_content": null,
            "_view_module": "@jupyter-widgets/base",
            "overflow": null,
            "_model_module_version": "1.2.0",
            "_view_count": null,
            "flex_flow": null,
            "width": null,
            "min_width": null,
            "border": null,
            "align_items": null,
            "bottom": null,
            "_model_module": "@jupyter-widgets/base",
            "top": null,
            "grid_column": null,
            "overflow_y": null,
            "overflow_x": null,
            "grid_auto_flow": null,
            "grid_area": null,
            "grid_template_columns": null,
            "flex": null,
            "_model_name": "LayoutModel",
            "justify_items": null,
            "grid_row": null,
            "max_height": null,
            "align_content": null,
            "visibility": null,
            "align_self": null,
            "height": null,
            "min_height": null,
            "padding": null,
            "grid_auto_rows": null,
            "grid_gap": null,
            "max_width": null,
            "order": null,
            "_view_module_version": "1.2.0",
            "grid_template_areas": null,
            "object_position": null,
            "object_fit": null,
            "grid_auto_columns": null,
            "margin": null,
            "display": null,
            "left": null
          }
        },
        "b5016a2429b945aea1a2c6e94e5284ae": {
          "model_module": "@jupyter-widgets/controls",
          "model_name": "HBoxModel",
          "state": {
            "_view_name": "HBoxView",
            "_dom_classes": [],
            "_model_name": "HBoxModel",
            "_view_module": "@jupyter-widgets/controls",
            "_model_module_version": "1.5.0",
            "_view_count": null,
            "_view_module_version": "1.5.0",
            "box_style": "",
            "layout": "IPY_MODEL_d819f4a019eb486c9b18075963e8f8d3",
            "_model_module": "@jupyter-widgets/controls",
            "children": [
              "IPY_MODEL_cb32590f9cd946b5ad2a0bb317dc675a",
              "IPY_MODEL_5d7e8139427749ef8660d44263abc469"
            ]
          }
        },
        "d819f4a019eb486c9b18075963e8f8d3": {
          "model_module": "@jupyter-widgets/base",
          "model_name": "LayoutModel",
          "state": {
            "_view_name": "LayoutView",
            "grid_template_rows": null,
            "right": null,
            "justify_content": null,
            "_view_module": "@jupyter-widgets/base",
            "overflow": null,
            "_model_module_version": "1.2.0",
            "_view_count": null,
            "flex_flow": null,
            "width": null,
            "min_width": null,
            "border": null,
            "align_items": null,
            "bottom": null,
            "_model_module": "@jupyter-widgets/base",
            "top": null,
            "grid_column": null,
            "overflow_y": null,
            "overflow_x": null,
            "grid_auto_flow": null,
            "grid_area": null,
            "grid_template_columns": null,
            "flex": null,
            "_model_name": "LayoutModel",
            "justify_items": null,
            "grid_row": null,
            "max_height": null,
            "align_content": null,
            "visibility": null,
            "align_self": null,
            "height": null,
            "min_height": null,
            "padding": null,
            "grid_auto_rows": null,
            "grid_gap": null,
            "max_width": null,
            "order": null,
            "_view_module_version": "1.2.0",
            "grid_template_areas": null,
            "object_position": null,
            "object_fit": null,
            "grid_auto_columns": null,
            "margin": null,
            "display": null,
            "left": null
          }
        },
        "cb32590f9cd946b5ad2a0bb317dc675a": {
          "model_module": "@jupyter-widgets/controls",
          "model_name": "FloatProgressModel",
          "state": {
            "_view_name": "ProgressView",
            "style": "IPY_MODEL_b076d9b538974371bf411196bc1d7fb5",
            "_dom_classes": [],
            "description": "",
            "_model_name": "FloatProgressModel",
            "bar_style": "success",
            "max": 1,
            "_view_module": "@jupyter-widgets/controls",
            "_model_module_version": "1.5.0",
            "value": 1,
            "_view_count": null,
            "_view_module_version": "1.5.0",
            "orientation": "horizontal",
            "min": 0,
            "description_tooltip": null,
            "_model_module": "@jupyter-widgets/controls",
            "layout": "IPY_MODEL_de10962471ce457d9b8ad9fbe265ef07"
          }
        },
        "5d7e8139427749ef8660d44263abc469": {
          "model_module": "@jupyter-widgets/controls",
          "model_name": "HTMLModel",
          "state": {
            "_view_name": "HTMLView",
            "style": "IPY_MODEL_6d7abc2c2e194b5486d725301d8d9fc8",
            "_dom_classes": [],
            "description": "",
            "_model_name": "HTMLModel",
            "placeholder": "​",
            "_view_module": "@jupyter-widgets/controls",
            "_model_module_version": "1.5.0",
            "value": " 5249/? [16:24&lt;00:00,  5.33it/s]",
            "_view_count": null,
            "_view_module_version": "1.5.0",
            "description_tooltip": null,
            "_model_module": "@jupyter-widgets/controls",
            "layout": "IPY_MODEL_8ce652d9013c47149b7b63f6ebd7adea"
          }
        },
        "b076d9b538974371bf411196bc1d7fb5": {
          "model_module": "@jupyter-widgets/controls",
          "model_name": "ProgressStyleModel",
          "state": {
            "_view_name": "StyleView",
            "_model_name": "ProgressStyleModel",
            "description_width": "initial",
            "_view_module": "@jupyter-widgets/base",
            "_model_module_version": "1.5.0",
            "_view_count": null,
            "_view_module_version": "1.2.0",
            "bar_color": null,
            "_model_module": "@jupyter-widgets/controls"
          }
        },
        "de10962471ce457d9b8ad9fbe265ef07": {
          "model_module": "@jupyter-widgets/base",
          "model_name": "LayoutModel",
          "state": {
            "_view_name": "LayoutView",
            "grid_template_rows": null,
            "right": null,
            "justify_content": null,
            "_view_module": "@jupyter-widgets/base",
            "overflow": null,
            "_model_module_version": "1.2.0",
            "_view_count": null,
            "flex_flow": null,
            "width": null,
            "min_width": null,
            "border": null,
            "align_items": null,
            "bottom": null,
            "_model_module": "@jupyter-widgets/base",
            "top": null,
            "grid_column": null,
            "overflow_y": null,
            "overflow_x": null,
            "grid_auto_flow": null,
            "grid_area": null,
            "grid_template_columns": null,
            "flex": null,
            "_model_name": "LayoutModel",
            "justify_items": null,
            "grid_row": null,
            "max_height": null,
            "align_content": null,
            "visibility": null,
            "align_self": null,
            "height": null,
            "min_height": null,
            "padding": null,
            "grid_auto_rows": null,
            "grid_gap": null,
            "max_width": null,
            "order": null,
            "_view_module_version": "1.2.0",
            "grid_template_areas": null,
            "object_position": null,
            "object_fit": null,
            "grid_auto_columns": null,
            "margin": null,
            "display": null,
            "left": null
          }
        },
        "6d7abc2c2e194b5486d725301d8d9fc8": {
          "model_module": "@jupyter-widgets/controls",
          "model_name": "DescriptionStyleModel",
          "state": {
            "_view_name": "StyleView",
            "_model_name": "DescriptionStyleModel",
            "description_width": "",
            "_view_module": "@jupyter-widgets/base",
            "_model_module_version": "1.5.0",
            "_view_count": null,
            "_view_module_version": "1.2.0",
            "_model_module": "@jupyter-widgets/controls"
          }
        },
        "8ce652d9013c47149b7b63f6ebd7adea": {
          "model_module": "@jupyter-widgets/base",
          "model_name": "LayoutModel",
          "state": {
            "_view_name": "LayoutView",
            "grid_template_rows": null,
            "right": null,
            "justify_content": null,
            "_view_module": "@jupyter-widgets/base",
            "overflow": null,
            "_model_module_version": "1.2.0",
            "_view_count": null,
            "flex_flow": null,
            "width": null,
            "min_width": null,
            "border": null,
            "align_items": null,
            "bottom": null,
            "_model_module": "@jupyter-widgets/base",
            "top": null,
            "grid_column": null,
            "overflow_y": null,
            "overflow_x": null,
            "grid_auto_flow": null,
            "grid_area": null,
            "grid_template_columns": null,
            "flex": null,
            "_model_name": "LayoutModel",
            "justify_items": null,
            "grid_row": null,
            "max_height": null,
            "align_content": null,
            "visibility": null,
            "align_self": null,
            "height": null,
            "min_height": null,
            "padding": null,
            "grid_auto_rows": null,
            "grid_gap": null,
            "max_width": null,
            "order": null,
            "_view_module_version": "1.2.0",
            "grid_template_areas": null,
            "object_position": null,
            "object_fit": null,
            "grid_auto_columns": null,
            "margin": null,
            "display": null,
            "left": null
          }
        }
      }
    }
  },
  "cells": [
    {
      "cell_type": "markdown",
      "metadata": {
        "id": "zUCZwx_2NGMa"
      },
      "source": [
        "# Disease Extraction (NER problem) \n",
        "https://datahack.analyticsvidhya.com/contest/innoplexus-online-hiring-hackathon-saving-lives-wi/"
      ]
    },
    {
      "cell_type": "code",
      "metadata": {
        "colab": {
          "base_uri": "https://localhost:8080/"
        },
        "id": "Y4RIZZkmNOAe",
        "outputId": "3a127a95-d265-419c-d9d4-6dc9e7c95aac"
      },
      "source": [
        "from google.colab import drive\n",
        "drive.mount('/content/drive')"
      ],
      "execution_count": null,
      "outputs": [
        {
          "output_type": "stream",
          "text": [
            "Mounted at /content/drive\n"
          ],
          "name": "stdout"
        }
      ]
    },
    {
      "cell_type": "markdown",
      "metadata": {
        "id": "1BNL5c4PNGMb"
      },
      "source": [
        "#### Imports"
      ]
    },
    {
      "cell_type": "code",
      "metadata": {
        "id": "4FtHsYSmNcA1"
      },
      "source": [
        "import os\n",
        "os.chdir('/content/drive/MyDrive/IR-pro/Disease-Extraction')"
      ],
      "execution_count": null,
      "outputs": []
    },
    {
      "cell_type": "code",
      "metadata": {
        "colab": {
          "base_uri": "https://localhost:8080/"
        },
        "id": "vpdRWV1MO-QY",
        "outputId": "3425a52a-9a39-4142-f03f-85a75c07b248"
      },
      "source": [
        "!pwd"
      ],
      "execution_count": null,
      "outputs": [
        {
          "output_type": "stream",
          "text": [
            "/content/drive/MyDrive/IR-pro/Disease-Extraction\n"
          ],
          "name": "stdout"
        }
      ]
    },
    {
      "cell_type": "code",
      "metadata": {
        "id": "VSoxlnp-PMmN",
        "colab": {
          "base_uri": "https://localhost:8080/",
          "height": 925
        },
        "outputId": "caecdab8-02c3-418d-8403-921a39860a8b"
      },
      "source": [
        "!pip install scispacy"
      ],
      "execution_count": null,
      "outputs": [
        {
          "output_type": "stream",
          "text": [
            "Collecting scispacy\n",
            "\u001b[?25l  Downloading https://files.pythonhosted.org/packages/7b/0c/e1dc89d73122677cdee8a2d4e734c608c5f112e0c4ea2886f0944ceff1b6/scispacy-0.3.0-py3-none-any.whl (42kB)\n",
            "\r\u001b[K     |███████▋                        | 10kB 13.5MB/s eta 0:00:01\r\u001b[K     |███████████████▎                | 20kB 18.5MB/s eta 0:00:01\r\u001b[K     |██████████████████████▉         | 30kB 17.0MB/s eta 0:00:01\r\u001b[K     |██████████████████████████████▌ | 40kB 9.8MB/s eta 0:00:01\r\u001b[K     |████████████████████████████████| 51kB 3.5MB/s \n",
            "\u001b[?25hRequirement already satisfied: numpy in /usr/local/lib/python3.6/dist-packages (from scispacy) (1.18.5)\n",
            "Collecting nmslib>=1.7.3.6\n",
            "\u001b[?25l  Downloading https://files.pythonhosted.org/packages/d5/fd/7d7428d29f12be5d1cc6d586d425b795cc9c596ae669593fd4f388602010/nmslib-2.0.6-cp36-cp36m-manylinux2010_x86_64.whl (12.9MB)\n",
            "\u001b[K     |████████████████████████████████| 13.0MB 290kB/s \n",
            "\u001b[?25hRequirement already satisfied: requests<3.0.0conllu,>=2.0.0 in /usr/local/lib/python3.6/dist-packages (from scispacy) (2.23.0)\n",
            "Collecting pysbd\n",
            "\u001b[?25l  Downloading https://files.pythonhosted.org/packages/26/db/95bd39a94eae9a5149bfde3d27760fb3595a35e11a9a01f6e97288132475/pysbd-0.3.3-py3-none-any.whl (67kB)\n",
            "\u001b[K     |████████████████████████████████| 71kB 7.8MB/s \n",
            "\u001b[?25hRequirement already satisfied: joblib in /usr/local/lib/python3.6/dist-packages (from scispacy) (0.17.0)\n",
            "Requirement already satisfied: scikit-learn>=0.20.3 in /usr/local/lib/python3.6/dist-packages (from scispacy) (0.22.2.post1)\n",
            "Collecting spacy<3.0.0,>=2.3.0\n",
            "\u001b[?25l  Downloading https://files.pythonhosted.org/packages/50/b2/12466d3018bb84b039139ef76436ea7a01e98125c2aee6a81e527eb4ebe1/spacy-2.3.4-cp36-cp36m-manylinux2014_x86_64.whl (10.4MB)\n",
            "\u001b[K     |████████████████████████████████| 10.4MB 2.1MB/s \n",
            "\u001b[?25hCollecting pybind11>=2.2.3\n",
            "\u001b[?25l  Downloading https://files.pythonhosted.org/packages/00/84/fc9dc13ee536ba5e6b8fd10ce368fea5b738fe394c3b296cde7c9b144a92/pybind11-2.6.1-py2.py3-none-any.whl (188kB)\n",
            "\u001b[K     |████████████████████████████████| 194kB 41.9MB/s \n",
            "\u001b[?25hRequirement already satisfied: psutil in /usr/local/lib/python3.6/dist-packages (from nmslib>=1.7.3.6->scispacy) (5.4.8)\n",
            "Requirement already satisfied: idna<3,>=2.5 in /usr/local/lib/python3.6/dist-packages (from requests<3.0.0conllu,>=2.0.0->scispacy) (2.10)\n",
            "Requirement already satisfied: chardet<4,>=3.0.2 in /usr/local/lib/python3.6/dist-packages (from requests<3.0.0conllu,>=2.0.0->scispacy) (3.0.4)\n",
            "Requirement already satisfied: urllib3!=1.25.0,!=1.25.1,<1.26,>=1.21.1 in /usr/local/lib/python3.6/dist-packages (from requests<3.0.0conllu,>=2.0.0->scispacy) (1.24.3)\n",
            "Requirement already satisfied: certifi>=2017.4.17 in /usr/local/lib/python3.6/dist-packages (from requests<3.0.0conllu,>=2.0.0->scispacy) (2020.11.8)\n",
            "Requirement already satisfied: scipy>=0.17.0 in /usr/local/lib/python3.6/dist-packages (from scikit-learn>=0.20.3->scispacy) (1.4.1)\n",
            "Requirement already satisfied: preshed<3.1.0,>=3.0.2 in /usr/local/lib/python3.6/dist-packages (from spacy<3.0.0,>=2.3.0->scispacy) (3.0.4)\n",
            "Requirement already satisfied: setuptools in /usr/local/lib/python3.6/dist-packages (from spacy<3.0.0,>=2.3.0->scispacy) (50.3.2)\n",
            "Requirement already satisfied: blis<0.8.0,>=0.4.0; python_version >= \"3.6\" in /usr/local/lib/python3.6/dist-packages (from spacy<3.0.0,>=2.3.0->scispacy) (0.4.1)\n",
            "Requirement already satisfied: murmurhash<1.1.0,>=0.28.0 in /usr/local/lib/python3.6/dist-packages (from spacy<3.0.0,>=2.3.0->scispacy) (1.0.4)\n",
            "Requirement already satisfied: srsly<1.1.0,>=1.0.2 in /usr/local/lib/python3.6/dist-packages (from spacy<3.0.0,>=2.3.0->scispacy) (1.0.4)\n",
            "Collecting thinc<7.5.0,>=7.4.1\n",
            "\u001b[?25l  Downloading https://files.pythonhosted.org/packages/1b/c9/ce2e03720a5647fd90da575325376ff258653a05f357aa970fd87e6c1a55/thinc-7.4.3-cp36-cp36m-manylinux2014_x86_64.whl (1.1MB)\n",
            "\u001b[K     |████████████████████████████████| 1.1MB 34.2MB/s \n",
            "\u001b[?25hRequirement already satisfied: plac<1.2.0,>=0.9.6 in /usr/local/lib/python3.6/dist-packages (from spacy<3.0.0,>=2.3.0->scispacy) (1.1.3)\n",
            "Requirement already satisfied: tqdm<5.0.0,>=4.38.0 in /usr/local/lib/python3.6/dist-packages (from spacy<3.0.0,>=2.3.0->scispacy) (4.41.1)\n",
            "Requirement already satisfied: catalogue<1.1.0,>=0.0.7 in /usr/local/lib/python3.6/dist-packages (from spacy<3.0.0,>=2.3.0->scispacy) (1.0.0)\n",
            "Requirement already satisfied: wasabi<1.1.0,>=0.4.0 in /usr/local/lib/python3.6/dist-packages (from spacy<3.0.0,>=2.3.0->scispacy) (0.8.0)\n",
            "Requirement already satisfied: cymem<2.1.0,>=2.0.2 in /usr/local/lib/python3.6/dist-packages (from spacy<3.0.0,>=2.3.0->scispacy) (2.0.4)\n",
            "Requirement already satisfied: importlib-metadata>=0.20; python_version < \"3.8\" in /usr/local/lib/python3.6/dist-packages (from catalogue<1.1.0,>=0.0.7->spacy<3.0.0,>=2.3.0->scispacy) (2.0.0)\n",
            "Requirement already satisfied: zipp>=0.5 in /usr/local/lib/python3.6/dist-packages (from importlib-metadata>=0.20; python_version < \"3.8\"->catalogue<1.1.0,>=0.0.7->spacy<3.0.0,>=2.3.0->scispacy) (3.4.0)\n",
            "Installing collected packages: pybind11, nmslib, pysbd, thinc, spacy, scispacy\n",
            "  Found existing installation: thinc 7.4.0\n",
            "    Uninstalling thinc-7.4.0:\n",
            "      Successfully uninstalled thinc-7.4.0\n",
            "  Found existing installation: spacy 2.2.4\n",
            "    Uninstalling spacy-2.2.4:\n",
            "      Successfully uninstalled spacy-2.2.4\n",
            "Successfully installed nmslib-2.0.6 pybind11-2.6.1 pysbd-0.3.3 scispacy-0.3.0 spacy-2.3.4 thinc-7.4.3\n"
          ],
          "name": "stdout"
        },
        {
          "output_type": "display_data",
          "data": {
            "application/vnd.colab-display-data+json": {
              "pip_warning": {
                "packages": [
                  "spacy",
                  "thinc"
                ]
              }
            }
          },
          "metadata": {
            "tags": []
          }
        }
      ]
    },
    {
      "cell_type": "code",
      "metadata": {
        "colab": {
          "base_uri": "https://localhost:8080/"
        },
        "id": "2ZP1EYbNNGMb",
        "outputId": "b8d053dc-0f77-4a6b-b5b6-e1c05cbbd416"
      },
      "source": [
        "import pandas as pd\n",
        "import numpy as np\n",
        "\n",
        "from collections import namedtuple\n",
        "from itertools import repeat\n",
        "from copy import deepcopy\n",
        "\n",
        "from sklearn.metrics import f1_score\n",
        "from sklearn.model_selection import train_test_split\n",
        "\n",
        "import spacy\n",
        "import scispacy\n",
        "from spacy.util import minibatch, compounding\n",
        "\n",
        "import matplotlib.pyplot as plt\n",
        "%matplotlib inline\n",
        "\n",
        "from tqdm import tqdm_notebook as tqdm\n",
        "\n",
        "import gc\n",
        "import random\n",
        "from pathlib import Path\n",
        "\n",
        "from multiprocessing import Pool\n",
        "import multiprocessing\n",
        "N_CORES = multiprocessing.cpu_count()\n",
        "print('Number of CPUs: ', N_CORES)"
      ],
      "execution_count": null,
      "outputs": [
        {
          "output_type": "stream",
          "text": [
            "Number of CPUs:  2\n"
          ],
          "name": "stdout"
        }
      ]
    },
    {
      "cell_type": "markdown",
      "metadata": {
        "id": "wIdGSs88NGMc"
      },
      "source": [
        "#### Evaluation Metric"
      ]
    },
    {
      "cell_type": "code",
      "metadata": {
        "id": "h7QjA1XaNGMc"
      },
      "source": [
        "def collect_named_entities(tokens): # Helper Function for score calculation\n",
        "    \"\"\"\n",
        "    Creates a list of Entity named-tuples, storing the entity type and the start and end\n",
        "    offsets of the entity.\n",
        "    :param tokens: a list of labels\n",
        "    :return: a list of Entity named-tuples\n",
        "    \"\"\"\n",
        "    Entity = namedtuple(\"Entity\", \"e_type start_offset end_offset\")\n",
        "    named_entities = []\n",
        "    start_offset = None\n",
        "    end_offset = None\n",
        "    ent_type = None\n",
        "\n",
        "    for offset, token_tag in enumerate(tokens):\n",
        "\n",
        "        if token_tag == 'O':\n",
        "            if ent_type is not None and start_offset is not None:\n",
        "                end_offset = offset - 1\n",
        "                named_entities.append(Entity(ent_type, start_offset, end_offset))\n",
        "                start_offset = None\n",
        "                end_offset = None\n",
        "                ent_type = None\n",
        "\n",
        "        elif ent_type is None:\n",
        "            ent_type = token_tag[2:]\n",
        "            start_offset = offset\n",
        "\n",
        "        elif ent_type != token_tag[2:] or (ent_type == token_tag[2:] and token_tag[:1] == 'B'):\n",
        "\n",
        "            end_offset = offset - 1\n",
        "            named_entities.append(Entity(ent_type, start_offset, end_offset))\n",
        "\n",
        "            # start of a new entity\n",
        "            ent_type = token_tag[2:]\n",
        "            start_offset = offset\n",
        "            end_offset = None\n",
        "\n",
        "    # catches an entity that goes up until the last token\n",
        "    if ent_type and start_offset and end_offset is None:\n",
        "        named_entities.append(Entity(ent_type, start_offset, len(tokens)-1))\n",
        "\n",
        "    return named_entities\n",
        "\n",
        "def compute_metrics(true_named_entities, pred_named_entities): # Helper Function for score calculation\n",
        "    eval_metrics = {'correct': 0, 'partial': 0, 'missed': 0, 'spurius': 0}\n",
        "    target_tags_no_schema = ['indications']\n",
        "\n",
        "    # overall results\n",
        "    evaluation = {'partial': deepcopy(eval_metrics)}\n",
        "\n",
        "\n",
        "    true_which_overlapped_with_pred = []  # keep track of entities that overlapped\n",
        "\n",
        "    # go through each predicted named-entity\n",
        "    for pred in pred_named_entities:\n",
        "        found_overlap = False\n",
        "\n",
        "        # check if there's an exact match, i.e.: boundary and entity type match\n",
        "        if pred in true_named_entities:\n",
        "            true_which_overlapped_with_pred.append(pred)\n",
        "            evaluation['partial']['correct'] += 1\n",
        "\n",
        "        else:\n",
        "\n",
        "            # check for overlaps with any of the true entities\n",
        "            for true in true_named_entities:\n",
        "\n",
        "                \n",
        "                # 2. check for an overlap i.e. not exact boundary match, with true entities\n",
        "                if pred.start_offset <= true.end_offset and true.start_offset <= pred.end_offset:\n",
        "\n",
        "                    true_which_overlapped_with_pred.append(true)\n",
        "\n",
        "                    evaluation['partial']['partial'] += 1\n",
        "\n",
        "                    found_overlap = True\n",
        "                    break\n",
        "\n",
        "            # count spurius (i.e., False Positive) entities\n",
        "            if not found_overlap:\n",
        "                # overall results\n",
        "                evaluation['partial']['spurius'] += 1\n",
        "\n",
        "    # count missed entities (i.e. False Negative)\n",
        "    for true in true_named_entities:\n",
        "        if true in true_which_overlapped_with_pred:\n",
        "            continue\n",
        "        else:\n",
        "            # overall results\n",
        "            evaluation['partial']['missed'] += 1\n",
        "\n",
        "    # Compute 'possible', 'actual'\n",
        "    for eval_type in ['partial']:\n",
        "\n",
        "        correct = evaluation[eval_type]['correct']\n",
        "        partial = evaluation[eval_type]['partial']\n",
        "        missed = evaluation[eval_type]['missed']\n",
        "        spurius = evaluation[eval_type]['spurius']\n",
        "\n",
        "        # possible: nr. annotations in the gold-standard which contribute to the final score\n",
        "        evaluation[eval_type]['possible'] = correct + partial + missed\n",
        "\n",
        "        # actual: number of annotations produced by the NER system\n",
        "        evaluation[eval_type]['actual'] = correct + partial + spurius\n",
        "\n",
        "        actual = evaluation[eval_type]['actual']\n",
        "        possible = evaluation[eval_type]['possible']\n",
        "\n",
        "    return evaluation\n",
        "\n",
        "def list_converter(df): # Helper Function for score calculation\n",
        "    keys, values = df.sort_values('Sent_ID_x').values.T\n",
        "    ukeys, index = np.unique(keys,True)\n",
        "    lists = [list(array) for array in np.split(values,index[1:])]\n",
        "    return lists\n",
        "\n",
        "# ideal and pred respectively represent dataframes containing actual labels and predictions for the set of sentences in the test data. \n",
        "# It has the same format as the sample submission (id, Sent_ID, tag)\n",
        "\n",
        "def calculate_score(ideal, pred): # Calculates the final F1 Score\n",
        "\n",
        "    merged = ideal.merge(pred, on = \"id\", how=\"inner\").drop(['Sent_ID_y'],axis = 1)\n",
        "    \n",
        "    \n",
        "    # The scores are calculated sentence wise and then aggregated to calculate the overall score, for this\n",
        "    # List converter function groups the labels by sentence to generate a list of lists with each inner list representing a sentence in sequence\n",
        "    ideal_ = list_converter(merged.drop(['id','tag_y'],axis = 1))\n",
        "    pred_ = list_converter(merged.drop(['id','tag_x'],axis = 1))\n",
        "\n",
        "    metrics_results = {'correct': 0, 'partial': 0,\n",
        "                   'missed': 0, 'spurius': 0, 'possible': 0, 'actual': 0}\n",
        "\n",
        "    results = {'partial': deepcopy(metrics_results)}\n",
        "\n",
        "\n",
        "    for true_ents, pred_ents in zip(ideal_, pred_):    \n",
        "    # compute results for one sentence\n",
        "        tmp_results = compute_metrics(collect_named_entities(true_ents),collect_named_entities(pred_ents))\n",
        "    \n",
        "    # aggregate overall results\n",
        "        for eval_schema in results.keys():\n",
        "            for metric in metrics_results.keys():\n",
        "                results[eval_schema][metric] += tmp_results[eval_schema][metric]\n",
        "    correct = results['partial']['correct']\n",
        "    partial = results['partial']['partial']\n",
        "    missed = results['partial']['missed']\n",
        "    spurius = results['partial']['spurius']\n",
        "    actual = results['partial']['actual']\n",
        "    possible = results['partial']['possible']\n",
        "\n",
        "\n",
        "    precision = (correct + 0.5 * partial) / actual if actual > 0 else 0\n",
        "    recall = (correct + 0.5 * partial) / possible if possible > 0 else 0\n",
        "\n",
        "\n",
        "    score = (2 * precision * recall)/(precision + recall) if (precision + recall) >0 else 0\n",
        "    \n",
        "    # final score\n",
        "    return score"
      ],
      "execution_count": null,
      "outputs": []
    },
    {
      "cell_type": "markdown",
      "metadata": {
        "id": "8zUYzc0vNGMc"
      },
      "source": [
        " "
      ]
    },
    {
      "cell_type": "markdown",
      "metadata": {
        "id": "xboOsP4iNGMc"
      },
      "source": [
        "#### Load Data and analyse"
      ]
    },
    {
      "cell_type": "code",
      "metadata": {
        "id": "sxt8NeKqNGMc"
      },
      "source": [
        "train_df = pd.read_csv('/content/drive/MyDrive/IR-pro/Disease-Extraction/data/train.csv')"
      ],
      "execution_count": null,
      "outputs": []
    },
    {
      "cell_type": "code",
      "metadata": {
        "id": "u6bGqCm5NGMd",
        "colab": {
          "base_uri": "https://localhost:8080/",
          "height": 196
        },
        "outputId": "31f43a9d-5429-4037-9f52-6acb4372db0d"
      },
      "source": [
        "train_df.head()"
      ],
      "execution_count": null,
      "outputs": [
        {
          "output_type": "execute_result",
          "data": {
            "text/html": [
              "<div>\n",
              "<style scoped>\n",
              "    .dataframe tbody tr th:only-of-type {\n",
              "        vertical-align: middle;\n",
              "    }\n",
              "\n",
              "    .dataframe tbody tr th {\n",
              "        vertical-align: top;\n",
              "    }\n",
              "\n",
              "    .dataframe thead th {\n",
              "        text-align: right;\n",
              "    }\n",
              "</style>\n",
              "<table border=\"1\" class=\"dataframe\">\n",
              "  <thead>\n",
              "    <tr style=\"text-align: right;\">\n",
              "      <th></th>\n",
              "      <th>id</th>\n",
              "      <th>Doc_ID</th>\n",
              "      <th>Sent_ID</th>\n",
              "      <th>Word</th>\n",
              "      <th>tag</th>\n",
              "    </tr>\n",
              "  </thead>\n",
              "  <tbody>\n",
              "    <tr>\n",
              "      <th>0</th>\n",
              "      <td>1</td>\n",
              "      <td>1</td>\n",
              "      <td>1</td>\n",
              "      <td>Obesity</td>\n",
              "      <td>O</td>\n",
              "    </tr>\n",
              "    <tr>\n",
              "      <th>1</th>\n",
              "      <td>2</td>\n",
              "      <td>1</td>\n",
              "      <td>1</td>\n",
              "      <td>in</td>\n",
              "      <td>O</td>\n",
              "    </tr>\n",
              "    <tr>\n",
              "      <th>2</th>\n",
              "      <td>3</td>\n",
              "      <td>1</td>\n",
              "      <td>1</td>\n",
              "      <td>Low-</td>\n",
              "      <td>O</td>\n",
              "    </tr>\n",
              "    <tr>\n",
              "      <th>3</th>\n",
              "      <td>4</td>\n",
              "      <td>1</td>\n",
              "      <td>1</td>\n",
              "      <td>and</td>\n",
              "      <td>O</td>\n",
              "    </tr>\n",
              "    <tr>\n",
              "      <th>4</th>\n",
              "      <td>5</td>\n",
              "      <td>1</td>\n",
              "      <td>1</td>\n",
              "      <td>Middle-Income</td>\n",
              "      <td>O</td>\n",
              "    </tr>\n",
              "  </tbody>\n",
              "</table>\n",
              "</div>"
            ],
            "text/plain": [
              "   id  Doc_ID  Sent_ID           Word tag\n",
              "0   1       1        1        Obesity   O\n",
              "1   2       1        1             in   O\n",
              "2   3       1        1           Low-   O\n",
              "3   4       1        1            and   O\n",
              "4   5       1        1  Middle-Income   O"
            ]
          },
          "metadata": {
            "tags": []
          },
          "execution_count": 3
        }
      ]
    },
    {
      "cell_type": "code",
      "metadata": {
        "id": "aJ94xk1bNGMd",
        "colab": {
          "base_uri": "https://localhost:8080/"
        },
        "outputId": "dec6d954-68a0-433b-b757-88433bcc99aa"
      },
      "source": [
        "train_df.shape"
      ],
      "execution_count": null,
      "outputs": [
        {
          "output_type": "execute_result",
          "data": {
            "text/plain": [
              "(4543833, 5)"
            ]
          },
          "metadata": {
            "tags": []
          },
          "execution_count": 4
        }
      ]
    },
    {
      "cell_type": "code",
      "metadata": {
        "id": "4yx281NjNGMd",
        "colab": {
          "base_uri": "https://localhost:8080/"
        },
        "outputId": "57892aa7-819c-4cde-c277-3ccabd8f04c1"
      },
      "source": [
        "train_df['Doc_ID'].nunique()"
      ],
      "execution_count": null,
      "outputs": [
        {
          "output_type": "execute_result",
          "data": {
            "text/plain": [
              "30000"
            ]
          },
          "metadata": {
            "tags": []
          },
          "execution_count": 5
        }
      ]
    },
    {
      "cell_type": "code",
      "metadata": {
        "id": "dE42g0IaNGMd",
        "colab": {
          "base_uri": "https://localhost:8080/"
        },
        "outputId": "7db54b34-9ac2-4726-f5f0-1d9e1bf0061a"
      },
      "source": [
        "train_df['Sent_ID'].nunique()"
      ],
      "execution_count": null,
      "outputs": [
        {
          "output_type": "execute_result",
          "data": {
            "text/plain": [
              "191282"
            ]
          },
          "metadata": {
            "tags": []
          },
          "execution_count": 6
        }
      ]
    },
    {
      "cell_type": "code",
      "metadata": {
        "id": "WqwyNro8NGMd",
        "colab": {
          "base_uri": "https://localhost:8080/"
        },
        "outputId": "df692b1e-4acc-4cf5-b8e4-08ccbda0e4e7"
      },
      "source": [
        "train_df['id'].nunique()"
      ],
      "execution_count": null,
      "outputs": [
        {
          "output_type": "execute_result",
          "data": {
            "text/plain": [
              "4543833"
            ]
          },
          "metadata": {
            "tags": []
          },
          "execution_count": 7
        }
      ]
    },
    {
      "cell_type": "code",
      "metadata": {
        "colab": {
          "base_uri": "https://localhost:8080/"
        },
        "id": "ey_4mumhp7qk",
        "outputId": "47498ea6-5494-42aa-f0fb-c00339941772"
      },
      "source": [
        "train_df['tag'].value_counts()"
      ],
      "execution_count": null,
      "outputs": [
        {
          "output_type": "execute_result",
          "data": {
            "text/plain": [
              "O                4446206\n",
              "B-indications      53003\n",
              "I-indications      44624\n",
              "Name: tag, dtype: int64"
            ]
          },
          "metadata": {
            "tags": []
          },
          "execution_count": 8
        }
      ]
    },
    {
      "cell_type": "markdown",
      "metadata": {
        "id": "imqQ9NktNGMd"
      },
      "source": [
        "We have total 30000 documents and 191282 sentances in total.\n",
        "\n",
        "We have total 4543833 unique id, which means each record is assigned unique id."
      ]
    },
    {
      "cell_type": "markdown",
      "metadata": {
        "id": "xaFd8e0QNGMe"
      },
      "source": [
        " "
      ]
    },
    {
      "cell_type": "markdown",
      "metadata": {
        "id": "Rmk76MAuNGMe"
      },
      "source": [
        "#### Sci-spacy demo"
      ]
    },
    {
      "cell_type": "code",
      "metadata": {
        "id": "z2SqYtmfWsGt",
        "colab": {
          "base_uri": "https://localhost:8080/"
        },
        "outputId": "3a0e17d4-d432-4838-8440-29339c8964ce"
      },
      "source": [
        "!pip install https://s3-us-west-2.amazonaws.com/ai2-s2-scispacy/releases/v0.3.0/en_ner_bc5cdr_md-0.3.0.tar.gz"
      ],
      "execution_count": null,
      "outputs": [
        {
          "output_type": "stream",
          "text": [
            "Collecting https://s3-us-west-2.amazonaws.com/ai2-s2-scispacy/releases/v0.3.0/en_ner_bc5cdr_md-0.3.0.tar.gz\n",
            "\u001b[?25l  Downloading https://s3-us-west-2.amazonaws.com/ai2-s2-scispacy/releases/v0.3.0/en_ner_bc5cdr_md-0.3.0.tar.gz (79.8MB)\n",
            "\u001b[K     |████████████████████████████████| 79.8MB 112kB/s \n",
            "\u001b[?25hRequirement already satisfied: spacy>=2.3.1 in /usr/local/lib/python3.6/dist-packages (from en-ner-bc5cdr-md==0.3.0) (2.3.4)\n",
            "Requirement already satisfied: tqdm<5.0.0,>=4.38.0 in /usr/local/lib/python3.6/dist-packages (from spacy>=2.3.1->en-ner-bc5cdr-md==0.3.0) (4.41.1)\n",
            "Requirement already satisfied: blis<0.8.0,>=0.4.0; python_version >= \"3.6\" in /usr/local/lib/python3.6/dist-packages (from spacy>=2.3.1->en-ner-bc5cdr-md==0.3.0) (0.4.1)\n",
            "Requirement already satisfied: setuptools in /usr/local/lib/python3.6/dist-packages (from spacy>=2.3.1->en-ner-bc5cdr-md==0.3.0) (50.3.2)\n",
            "Requirement already satisfied: murmurhash<1.1.0,>=0.28.0 in /usr/local/lib/python3.6/dist-packages (from spacy>=2.3.1->en-ner-bc5cdr-md==0.3.0) (1.0.4)\n",
            "Requirement already satisfied: preshed<3.1.0,>=3.0.2 in /usr/local/lib/python3.6/dist-packages (from spacy>=2.3.1->en-ner-bc5cdr-md==0.3.0) (3.0.4)\n",
            "Requirement already satisfied: catalogue<1.1.0,>=0.0.7 in /usr/local/lib/python3.6/dist-packages (from spacy>=2.3.1->en-ner-bc5cdr-md==0.3.0) (1.0.0)\n",
            "Requirement already satisfied: requests<3.0.0,>=2.13.0 in /usr/local/lib/python3.6/dist-packages (from spacy>=2.3.1->en-ner-bc5cdr-md==0.3.0) (2.23.0)\n",
            "Requirement already satisfied: numpy>=1.15.0 in /usr/local/lib/python3.6/dist-packages (from spacy>=2.3.1->en-ner-bc5cdr-md==0.3.0) (1.18.5)\n",
            "Requirement already satisfied: wasabi<1.1.0,>=0.4.0 in /usr/local/lib/python3.6/dist-packages (from spacy>=2.3.1->en-ner-bc5cdr-md==0.3.0) (0.8.0)\n",
            "Requirement already satisfied: plac<1.2.0,>=0.9.6 in /usr/local/lib/python3.6/dist-packages (from spacy>=2.3.1->en-ner-bc5cdr-md==0.3.0) (1.1.3)\n",
            "Requirement already satisfied: cymem<2.1.0,>=2.0.2 in /usr/local/lib/python3.6/dist-packages (from spacy>=2.3.1->en-ner-bc5cdr-md==0.3.0) (2.0.4)\n",
            "Requirement already satisfied: thinc<7.5.0,>=7.4.1 in /usr/local/lib/python3.6/dist-packages (from spacy>=2.3.1->en-ner-bc5cdr-md==0.3.0) (7.4.3)\n",
            "Requirement already satisfied: srsly<1.1.0,>=1.0.2 in /usr/local/lib/python3.6/dist-packages (from spacy>=2.3.1->en-ner-bc5cdr-md==0.3.0) (1.0.4)\n",
            "Requirement already satisfied: importlib-metadata>=0.20; python_version < \"3.8\" in /usr/local/lib/python3.6/dist-packages (from catalogue<1.1.0,>=0.0.7->spacy>=2.3.1->en-ner-bc5cdr-md==0.3.0) (2.0.0)\n",
            "Requirement already satisfied: idna<3,>=2.5 in /usr/local/lib/python3.6/dist-packages (from requests<3.0.0,>=2.13.0->spacy>=2.3.1->en-ner-bc5cdr-md==0.3.0) (2.10)\n",
            "Requirement already satisfied: chardet<4,>=3.0.2 in /usr/local/lib/python3.6/dist-packages (from requests<3.0.0,>=2.13.0->spacy>=2.3.1->en-ner-bc5cdr-md==0.3.0) (3.0.4)\n",
            "Requirement already satisfied: certifi>=2017.4.17 in /usr/local/lib/python3.6/dist-packages (from requests<3.0.0,>=2.13.0->spacy>=2.3.1->en-ner-bc5cdr-md==0.3.0) (2020.11.8)\n",
            "Requirement already satisfied: urllib3!=1.25.0,!=1.25.1,<1.26,>=1.21.1 in /usr/local/lib/python3.6/dist-packages (from requests<3.0.0,>=2.13.0->spacy>=2.3.1->en-ner-bc5cdr-md==0.3.0) (1.24.3)\n",
            "Requirement already satisfied: zipp>=0.5 in /usr/local/lib/python3.6/dist-packages (from importlib-metadata>=0.20; python_version < \"3.8\"->catalogue<1.1.0,>=0.0.7->spacy>=2.3.1->en-ner-bc5cdr-md==0.3.0) (3.4.0)\n",
            "Building wheels for collected packages: en-ner-bc5cdr-md\n",
            "  Building wheel for en-ner-bc5cdr-md (setup.py) ... \u001b[?25l\u001b[?25hdone\n",
            "  Created wheel for en-ner-bc5cdr-md: filename=en_ner_bc5cdr_md-0.3.0-cp36-none-any.whl size=79880571 sha256=84c90f1d57250f40beba3729a093e22210960020ea744ce9b7e7269be0d6810c\n",
            "  Stored in directory: /root/.cache/pip/wheels/c9/22/69/059a5d6de407bcd8c7fb65098f02c9b874171b6549f74b882e\n",
            "Successfully built en-ner-bc5cdr-md\n",
            "Installing collected packages: en-ner-bc5cdr-md\n",
            "Successfully installed en-ner-bc5cdr-md-0.3.0\n"
          ],
          "name": "stdout"
        }
      ]
    },
    {
      "cell_type": "code",
      "metadata": {
        "id": "drYGACyhXKVN"
      },
      "source": [
        "import en_ner_bc5cdr_md\n",
        "nlp = en_ner_bc5cdr_md.load()"
      ],
      "execution_count": null,
      "outputs": []
    },
    {
      "cell_type": "code",
      "metadata": {
        "id": "IAShVSydNGMe"
      },
      "source": [
        "text = \"\"\"Obesity in Low- and Middle-Income Countries : Burden , Drivers , and Emerging Challenges . We have reviewed the distinctive features of excess weight , its causes , and related prevention and management efforts , as well as data gaps and recommendations for future research in low- and middle-income countries ( LMICs ) . Obesity is rising in every region of the world , and no country has been successful at reversing the epidemic once it has begun . In LMICs , overweight is higher in women compared with men , in urban compared with rural settings , and in older compared with younger individuals ; however , the urban-rural overweight differential is shrinking in many countries . Overweight occurs alongside persistent burdens of underweight in LMICs , especially in young women . Changes in the global diet and physical activity are among the hypothesized leading contributors to obesity . Emerging risk factors include environmental contaminants , chronic psychosocial stress , neuroendocrine dysregulation , and genetic/epigenetic mechanisms . Data on effective strategies to prevent the onset of obesity in LMICs or elsewhere are limited . Expanding the research in this area is a key priority and has important possibilities for reverse innovation that may also inform interventions in high-income countries . \"\"\"\n",
        "doc = nlp(text)"
      ],
      "execution_count": null,
      "outputs": []
    },
    {
      "cell_type": "code",
      "metadata": {
        "scrolled": false,
        "id": "mpgmrHkfNGMe",
        "colab": {
          "base_uri": "https://localhost:8080/"
        },
        "outputId": "274f3df2-cc76-4e7c-aa90-c2c5d11307ee"
      },
      "source": [
        "[(e.text, e.start_char, e.end_char, e.label_) for e in doc.ents]"
      ],
      "execution_count": null,
      "outputs": [
        {
          "output_type": "execute_result",
          "data": {
            "text/plain": [
              "[('Obesity', 0, 7, 'DISEASE'),\n",
              " ('Low-', 11, 15, 'CHEMICAL'),\n",
              " ('gaps', 229, 233, 'DISEASE'),\n",
              " ('Obesity', 322, 329, 'DISEASE'),\n",
              " ('overweight', 463, 473, 'DISEASE'),\n",
              " ('obesity', 886, 893, 'DISEASE'),\n",
              " ('obesity', 1105, 1112, 'DISEASE')]"
            ]
          },
          "metadata": {
            "tags": []
          },
          "execution_count": 12
        }
      ]
    },
    {
      "cell_type": "code",
      "metadata": {
        "id": "H3BPz8AHNGMe"
      },
      "source": [
        "# [(X, X.ent_iob_, X.ent_type_) for X in doc]"
      ],
      "execution_count": null,
      "outputs": []
    },
    {
      "cell_type": "markdown",
      "metadata": {
        "id": "GRvrBWumNGMe"
      },
      "source": [
        " "
      ]
    },
    {
      "cell_type": "markdown",
      "metadata": {
        "id": "7t0G6OWgNGMe"
      },
      "source": [
        "### Create Spacy NER prediction dataset"
      ]
    },
    {
      "cell_type": "markdown",
      "metadata": {
        "id": "hWNzHKEZNGMe"
      },
      "source": [
        "create train and validation set.\n",
        "\n",
        "We are doing this based on if a doc has any entity in it or not.\n",
        "\n",
        "We will create stratified train and test split based on that."
      ]
    },
    {
      "cell_type": "code",
      "metadata": {
        "id": "KacnnM51NGMe"
      },
      "source": [
        "has_ent = train_df.groupby('Doc_ID')['tag'].apply(lambda x: 'B-indications' in x.values).reset_index()"
      ],
      "execution_count": null,
      "outputs": []
    },
    {
      "cell_type": "code",
      "metadata": {
        "id": "ht4Y9VekNGMe",
        "colab": {
          "base_uri": "https://localhost:8080/",
          "height": 196
        },
        "outputId": "88fab583-aa22-4f0f-a7dc-f487c3d5f28e"
      },
      "source": [
        "has_ent.head()"
      ],
      "execution_count": null,
      "outputs": [
        {
          "output_type": "execute_result",
          "data": {
            "text/html": [
              "<div>\n",
              "<style scoped>\n",
              "    .dataframe tbody tr th:only-of-type {\n",
              "        vertical-align: middle;\n",
              "    }\n",
              "\n",
              "    .dataframe tbody tr th {\n",
              "        vertical-align: top;\n",
              "    }\n",
              "\n",
              "    .dataframe thead th {\n",
              "        text-align: right;\n",
              "    }\n",
              "</style>\n",
              "<table border=\"1\" class=\"dataframe\">\n",
              "  <thead>\n",
              "    <tr style=\"text-align: right;\">\n",
              "      <th></th>\n",
              "      <th>Doc_ID</th>\n",
              "      <th>tag</th>\n",
              "    </tr>\n",
              "  </thead>\n",
              "  <tbody>\n",
              "    <tr>\n",
              "      <th>0</th>\n",
              "      <td>1</td>\n",
              "      <td>True</td>\n",
              "    </tr>\n",
              "    <tr>\n",
              "      <th>1</th>\n",
              "      <td>2</td>\n",
              "      <td>True</td>\n",
              "    </tr>\n",
              "    <tr>\n",
              "      <th>2</th>\n",
              "      <td>3</td>\n",
              "      <td>True</td>\n",
              "    </tr>\n",
              "    <tr>\n",
              "      <th>3</th>\n",
              "      <td>4</td>\n",
              "      <td>False</td>\n",
              "    </tr>\n",
              "    <tr>\n",
              "      <th>4</th>\n",
              "      <td>5</td>\n",
              "      <td>False</td>\n",
              "    </tr>\n",
              "  </tbody>\n",
              "</table>\n",
              "</div>"
            ],
            "text/plain": [
              "   Doc_ID    tag\n",
              "0       1   True\n",
              "1       2   True\n",
              "2       3   True\n",
              "3       4  False\n",
              "4       5  False"
            ]
          },
          "metadata": {
            "tags": []
          },
          "execution_count": 14
        }
      ]
    },
    {
      "cell_type": "code",
      "metadata": {
        "colab": {
          "base_uri": "https://localhost:8080/"
        },
        "id": "tr_HWDRmrTcD",
        "outputId": "9a2d8348-dbdd-4c75-9472-a9f8d53ccfb8"
      },
      "source": [
        "has_ent.shape"
      ],
      "execution_count": null,
      "outputs": [
        {
          "output_type": "execute_result",
          "data": {
            "text/plain": [
              "(30000, 2)"
            ]
          },
          "metadata": {
            "tags": []
          },
          "execution_count": 15
        }
      ]
    },
    {
      "cell_type": "markdown",
      "metadata": {
        "id": "0joa7i0uNGMe"
      },
      "source": [
        "Get train Doc ids and validation Doc ids"
      ]
    },
    {
      "cell_type": "code",
      "metadata": {
        "id": "SiFGr_yvNGMe"
      },
      "source": [
        "trn_doc_ids, tst_doc_ids = train_test_split(has_ent['Doc_ID'].values, test_size = 0.33, stratify=has_ent['tag'].values, random_state=0)"
      ],
      "execution_count": null,
      "outputs": []
    },
    {
      "cell_type": "code",
      "metadata": {
        "id": "8GoKRBl9NGMe",
        "colab": {
          "base_uri": "https://localhost:8080/"
        },
        "outputId": "8475a619-ee2f-4ad8-9b44-3e40cddcdd07"
      },
      "source": [
        "print(len(trn_doc_ids), \" training documents.\")"
      ],
      "execution_count": null,
      "outputs": [
        {
          "output_type": "stream",
          "text": [
            "20100  training documents.\n"
          ],
          "name": "stdout"
        }
      ]
    },
    {
      "cell_type": "code",
      "metadata": {
        "id": "sbzPOkYWNGMe",
        "colab": {
          "base_uri": "https://localhost:8080/"
        },
        "outputId": "e7ca741c-72af-4604-a58c-3c9bbf140f76"
      },
      "source": [
        "print(len(tst_doc_ids), \" test documents.\")"
      ],
      "execution_count": null,
      "outputs": [
        {
          "output_type": "stream",
          "text": [
            "9900  test documents.\n"
          ],
          "name": "stdout"
        }
      ]
    },
    {
      "cell_type": "code",
      "metadata": {
        "id": "syAxOPr_NGMe"
      },
      "source": [
        "test_df = train_df[train_df['Doc_ID'].isin(tst_doc_ids)].reset_index(drop=True)\n",
        "train_df = train_df[train_df['Doc_ID'].isin(trn_doc_ids)].reset_index(drop=True)"
      ],
      "execution_count": null,
      "outputs": []
    },
    {
      "cell_type": "code",
      "metadata": {
        "id": "by24xBjqsF7m",
        "colab": {
          "base_uri": "https://localhost:8080/",
          "height": 196
        },
        "outputId": "50e92b09-be01-4d29-8c4c-78dd91ff197e"
      },
      "source": [
        "test_df.head()"
      ],
      "execution_count": null,
      "outputs": [
        {
          "output_type": "execute_result",
          "data": {
            "text/html": [
              "<div>\n",
              "<style scoped>\n",
              "    .dataframe tbody tr th:only-of-type {\n",
              "        vertical-align: middle;\n",
              "    }\n",
              "\n",
              "    .dataframe tbody tr th {\n",
              "        vertical-align: top;\n",
              "    }\n",
              "\n",
              "    .dataframe thead th {\n",
              "        text-align: right;\n",
              "    }\n",
              "</style>\n",
              "<table border=\"1\" class=\"dataframe\">\n",
              "  <thead>\n",
              "    <tr style=\"text-align: right;\">\n",
              "      <th></th>\n",
              "      <th>id</th>\n",
              "      <th>Doc_ID</th>\n",
              "      <th>Sent_ID</th>\n",
              "      <th>Word</th>\n",
              "      <th>tag</th>\n",
              "    </tr>\n",
              "  </thead>\n",
              "  <tbody>\n",
              "    <tr>\n",
              "      <th>0</th>\n",
              "      <td>212</td>\n",
              "      <td>2</td>\n",
              "      <td>10</td>\n",
              "      <td>MICROCEPHALIA</td>\n",
              "      <td>B-indications</td>\n",
              "    </tr>\n",
              "    <tr>\n",
              "      <th>1</th>\n",
              "      <td>213</td>\n",
              "      <td>2</td>\n",
              "      <td>10</td>\n",
              "      <td>VERA</td>\n",
              "      <td>I-indications</td>\n",
              "    </tr>\n",
              "    <tr>\n",
              "      <th>2</th>\n",
              "      <td>214</td>\n",
              "      <td>3</td>\n",
              "      <td>11</td>\n",
              "      <td>Excellent</td>\n",
              "      <td>O</td>\n",
              "    </tr>\n",
              "    <tr>\n",
              "      <th>3</th>\n",
              "      <td>215</td>\n",
              "      <td>3</td>\n",
              "      <td>11</td>\n",
              "      <td>reproducibility</td>\n",
              "      <td>O</td>\n",
              "    </tr>\n",
              "    <tr>\n",
              "      <th>4</th>\n",
              "      <td>216</td>\n",
              "      <td>3</td>\n",
              "      <td>11</td>\n",
              "      <td>of</td>\n",
              "      <td>O</td>\n",
              "    </tr>\n",
              "  </tbody>\n",
              "</table>\n",
              "</div>"
            ],
            "text/plain": [
              "    id  Doc_ID  Sent_ID             Word            tag\n",
              "0  212       2       10    MICROCEPHALIA  B-indications\n",
              "1  213       2       10             VERA  I-indications\n",
              "2  214       3       11        Excellent              O\n",
              "3  215       3       11  reproducibility              O\n",
              "4  216       3       11               of              O"
            ]
          },
          "metadata": {
            "tags": []
          },
          "execution_count": 20
        }
      ]
    },
    {
      "cell_type": "markdown",
      "metadata": {
        "id": "rOaEoNBxNGMf"
      },
      "source": [
        "We want to train our model on document level and also predict on document level, that's why we need to group data by Doc_ID.\n",
        "\n",
        "The reason behid this is that in training out model can use context words and learn better.\n",
        "\n",
        "Same goes for prediction. If we just single word for prediction, then model doesn't know its context words, and model can't predict better.\n"
      ]
    },
    {
      "cell_type": "markdown",
      "metadata": {
        "id": "l75yAmGYNGMf"
      },
      "source": [
        "Main problem we face in using using spacy for prediction is that it takes whole document, do tokenization on its own and give us IOB (inside, outside, begining) prediction on tokens it has generated. Here we might face mismatch between tokens of spacy and our own, we need IOB predictions on our own tokens.\n",
        "\n",
        "That's why we have created a function which gives use prediction based on word location in document."
      ]
    },
    {
      "cell_type": "code",
      "metadata": {
        "id": "l56bSQn9NGMf"
      },
      "source": [
        "# Function for creating test data for prediction\n",
        "def gb_ops_test(df):\n",
        "    ids = df['id'].tolist()\n",
        "    st_inds = []\n",
        "    doc = \"\"\n",
        "    ls_ind = 0\n",
        "    for w in df['Word']:\n",
        "        st_inds.append(ls_ind)\n",
        "        w_len = len(str(w))\n",
        "        ls_ind = ls_ind + w_len + 1\n",
        "        doc = doc + str(w) + \" \"\n",
        "    return pd.Series(dict(ids = ids, st_inds = st_inds, doc = doc))"
      ],
      "execution_count": null,
      "outputs": []
    },
    {
      "cell_type": "code",
      "metadata": {
        "id": "YQiDQSokNGMf"
      },
      "source": [
        "test_data = test_df.groupby('Doc_ID').apply(gb_ops_test)"
      ],
      "execution_count": null,
      "outputs": []
    },
    {
      "cell_type": "code",
      "metadata": {
        "id": "Vvje7OGjNGMf",
        "colab": {
          "base_uri": "https://localhost:8080/",
          "height": 226
        },
        "outputId": "02ace81a-55a2-4d4f-ebee-2f36e651df66"
      },
      "source": [
        "test_data.head(5)"
      ],
      "execution_count": null,
      "outputs": [
        {
          "output_type": "execute_result",
          "data": {
            "text/html": [
              "<div>\n",
              "<style scoped>\n",
              "    .dataframe tbody tr th:only-of-type {\n",
              "        vertical-align: middle;\n",
              "    }\n",
              "\n",
              "    .dataframe tbody tr th {\n",
              "        vertical-align: top;\n",
              "    }\n",
              "\n",
              "    .dataframe thead th {\n",
              "        text-align: right;\n",
              "    }\n",
              "</style>\n",
              "<table border=\"1\" class=\"dataframe\">\n",
              "  <thead>\n",
              "    <tr style=\"text-align: right;\">\n",
              "      <th></th>\n",
              "      <th>ids</th>\n",
              "      <th>st_inds</th>\n",
              "      <th>doc</th>\n",
              "    </tr>\n",
              "    <tr>\n",
              "      <th>Doc_ID</th>\n",
              "      <th></th>\n",
              "      <th></th>\n",
              "      <th></th>\n",
              "    </tr>\n",
              "  </thead>\n",
              "  <tbody>\n",
              "    <tr>\n",
              "      <th>2</th>\n",
              "      <td>[212, 213]</td>\n",
              "      <td>[0, 14]</td>\n",
              "      <td>MICROCEPHALIA VERA</td>\n",
              "    </tr>\n",
              "    <tr>\n",
              "      <th>3</th>\n",
              "      <td>[214, 215, 216, 217, 218, 219, 220, 221, 222, ...</td>\n",
              "      <td>[0, 10, 26, 29, 35, 43, 52, 60, 63, 70, 75, 89...</td>\n",
              "      <td>Excellent reproducibility of laser speckle con...</td>\n",
              "    </tr>\n",
              "    <tr>\n",
              "      <th>4</th>\n",
              "      <td>[519, 520, 521, 522, 523, 524, 525, 526, 527, ...</td>\n",
              "      <td>[0, 9, 19, 26, 29, 44, 47, 51, 63, 68, 74]</td>\n",
              "      <td>Positive inotropic action of cholinesterase on...</td>\n",
              "    </tr>\n",
              "    <tr>\n",
              "      <th>6</th>\n",
              "      <td>[830, 831, 832, 833, 834, 835, 836, 837, 838, ...</td>\n",
              "      <td>[0, 15, 20, 29, 37, 39, 44, 46, 48, 51, 60, 65...</td>\n",
              "      <td>Self-assembled drug delivery systems . Part 8 ...</td>\n",
              "    </tr>\n",
              "    <tr>\n",
              "      <th>7</th>\n",
              "      <td>[1066, 1067, 1068, 1069, 1070, 1071, 1072, 107...</td>\n",
              "      <td>[0, 12, 16, 23, 34, 37, 44, 54, 57, 77, 87, 92...</td>\n",
              "      <td>Hyperphagia and leptin resistance in tissue in...</td>\n",
              "    </tr>\n",
              "  </tbody>\n",
              "</table>\n",
              "</div>"
            ],
            "text/plain": [
              "                                                      ids  ...                                                doc\n",
              "Doc_ID                                                     ...                                                   \n",
              "2                                              [212, 213]  ...                                MICROCEPHALIA VERA \n",
              "3       [214, 215, 216, 217, 218, 219, 220, 221, 222, ...  ...  Excellent reproducibility of laser speckle con...\n",
              "4       [519, 520, 521, 522, 523, 524, 525, 526, 527, ...  ...  Positive inotropic action of cholinesterase on...\n",
              "6       [830, 831, 832, 833, 834, 835, 836, 837, 838, ...  ...  Self-assembled drug delivery systems . Part 8 ...\n",
              "7       [1066, 1067, 1068, 1069, 1070, 1071, 1072, 107...  ...  Hyperphagia and leptin resistance in tissue in...\n",
              "\n",
              "[5 rows x 3 columns]"
            ]
          },
          "metadata": {
            "tags": []
          },
          "execution_count": 23
        }
      ]
    },
    {
      "cell_type": "markdown",
      "metadata": {
        "id": "ZXSnp_csNGMf"
      },
      "source": [
        "Here, ids contains word ids in doc, st_inds has starting index of all words which are in doc. and doc is text document.\n",
        "\n",
        "ids and st_inds has samesize."
      ]
    },
    {
      "cell_type": "code",
      "metadata": {
        "id": "USH3sKuINGMf"
      },
      "source": [
        "#ans = {'B': [], 'I': []}\n",
        "#type(ans)"
      ],
      "execution_count": null,
      "outputs": []
    },
    {
      "cell_type": "markdown",
      "metadata": {
        "id": "5W5vB2KuNGMf"
      },
      "source": [
        "#### Make a benchmark model using pre trained Sci Spacy 'en_ner_bc5cdr_md' model\n",
        "\n",
        "Which is a NER for DISEASE and CHEMICHAL entities."
      ]
    },
    {
      "cell_type": "code",
      "metadata": {
        "id": "FtXkC70eNGMf"
      },
      "source": [
        "# function for prediction on document and returns 'B' and 'I' word ids in our dataset\n",
        "\n",
        "def get_tag(ids, st_inds, doc, nlp_obj):\n",
        "    ids = pd.Series(ids)\n",
        "    st_inds = pd.Series(st_inds)\n",
        "\n",
        "    doc = nlp_obj(str(doc))\n",
        "    out = [(e.text, e.start_char, e.end_char, e.label_) for e in doc.ents]\n",
        "\n",
        "    ans = {'B': [], 'I': []}\n",
        "\n",
        "    for o in out:\n",
        "        if o[3] == 'DISEASE':\n",
        "            inss = st_inds[(st_inds >= o[1]) & (st_inds <= o[2])].index.tolist()\n",
        "            if (st_inds == o[1]).sum() == 0:\n",
        "                inss = [(st_inds[st_inds > o[1]].index[0] - 1)] + inss\n",
        "            w_ids = ids.iloc[inss].tolist()\n",
        "            ans['B'].append(w_ids[0])\n",
        "            ans['I'].extend(w_ids[1:])\n",
        "    return ans\n",
        "\n",
        "def get_B_I_ids(temp_data):\n",
        "    B_pred_ids = []\n",
        "    I_pred_ids = []\n",
        "    for d in temp_data:\n",
        "        B_pred_ids.extend(d['B'])\n",
        "        I_pred_ids.extend(d['I'])\n",
        "        \n",
        "    return B_pred_ids, I_pred_ids\n",
        "\n",
        "def make_prediction(test_df, B_pred_ids, I_pred_ids):\n",
        "    ans = test_df[['id', 'Sent_ID']].copy()\n",
        "    ans['tag'] = 'O'\n",
        "    ans.loc[ans['id'].isin(B_pred_ids), 'tag'] = 'B-indications'\n",
        "    ans.loc[ans['id'].isin(I_pred_ids), 'tag'] = 'I-indications'\n",
        "    return ans"
      ],
      "execution_count": null,
      "outputs": []
    },
    {
      "cell_type": "code",
      "metadata": {
        "id": "sHJBJrs1NGMf"
      },
      "source": [
        "import time"
      ],
      "execution_count": null,
      "outputs": []
    },
    {
      "cell_type": "code",
      "metadata": {
        "id": "32UVH7x4NGMf",
        "colab": {
          "base_uri": "https://localhost:8080/"
        },
        "outputId": "8d5fc5ea-7105-4254-e01a-ba90234209e8"
      },
      "source": [
        "# spacy NLP object\n",
        "nlp = spacy.load(\"en_ner_bc5cdr_md\")\n",
        "\n",
        "# function to put nlp object in get_tag function\n",
        "def mp_get_tag(ids, st_inds, doc):\n",
        "    return get_tag(ids, st_inds, doc, nlp)\n",
        "\n",
        "## Multiprocess code\n",
        "t1 = time.time()\n",
        "p = Pool(N_CORES)\n",
        "temp_data = list(p.starmap(mp_get_tag, zip(list(test_data['ids'].values), list(test_data['st_inds'].values), list(test_data['doc'].values))))\n",
        "p.close()\n",
        "p.join()\n",
        "p.terminate()\n",
        "print((time.time() - t1)/60, \" minutes\")"
      ],
      "execution_count": null,
      "outputs": [
        {
          "output_type": "stream",
          "text": [
            "4.601437032222748  minutes\n"
          ],
          "name": "stdout"
        }
      ]
    },
    {
      "cell_type": "code",
      "metadata": {
        "id": "giKsX7J7NGMf"
      },
      "source": [
        "B_pred_ids, I_pred_ids = get_B_I_ids(temp_data)\n",
        "test_pred_bm = make_prediction(test_df, B_pred_ids, I_pred_ids)"
      ],
      "execution_count": null,
      "outputs": []
    },
    {
      "cell_type": "code",
      "metadata": {
        "id": "hao7RfmFNGMf",
        "colab": {
          "base_uri": "https://localhost:8080/",
          "height": 404
        },
        "outputId": "e7c20922-6f7f-4297-f8b1-ffd600f0db89"
      },
      "source": [
        "test_pred_bm.head(180)"
      ],
      "execution_count": null,
      "outputs": [
        {
          "output_type": "execute_result",
          "data": {
            "text/html": [
              "<div>\n",
              "<style scoped>\n",
              "    .dataframe tbody tr th:only-of-type {\n",
              "        vertical-align: middle;\n",
              "    }\n",
              "\n",
              "    .dataframe tbody tr th {\n",
              "        vertical-align: top;\n",
              "    }\n",
              "\n",
              "    .dataframe thead th {\n",
              "        text-align: right;\n",
              "    }\n",
              "</style>\n",
              "<table border=\"1\" class=\"dataframe\">\n",
              "  <thead>\n",
              "    <tr style=\"text-align: right;\">\n",
              "      <th></th>\n",
              "      <th>id</th>\n",
              "      <th>Sent_ID</th>\n",
              "      <th>tag</th>\n",
              "    </tr>\n",
              "  </thead>\n",
              "  <tbody>\n",
              "    <tr>\n",
              "      <th>0</th>\n",
              "      <td>212</td>\n",
              "      <td>10</td>\n",
              "      <td>O</td>\n",
              "    </tr>\n",
              "    <tr>\n",
              "      <th>1</th>\n",
              "      <td>213</td>\n",
              "      <td>10</td>\n",
              "      <td>O</td>\n",
              "    </tr>\n",
              "    <tr>\n",
              "      <th>2</th>\n",
              "      <td>214</td>\n",
              "      <td>11</td>\n",
              "      <td>O</td>\n",
              "    </tr>\n",
              "    <tr>\n",
              "      <th>3</th>\n",
              "      <td>215</td>\n",
              "      <td>11</td>\n",
              "      <td>O</td>\n",
              "    </tr>\n",
              "    <tr>\n",
              "      <th>4</th>\n",
              "      <td>216</td>\n",
              "      <td>11</td>\n",
              "      <td>O</td>\n",
              "    </tr>\n",
              "    <tr>\n",
              "      <th>...</th>\n",
              "      <td>...</td>\n",
              "      <td>...</td>\n",
              "      <td>...</td>\n",
              "    </tr>\n",
              "    <tr>\n",
              "      <th>175</th>\n",
              "      <td>387</td>\n",
              "      <td>18</td>\n",
              "      <td>O</td>\n",
              "    </tr>\n",
              "    <tr>\n",
              "      <th>176</th>\n",
              "      <td>388</td>\n",
              "      <td>18</td>\n",
              "      <td>O</td>\n",
              "    </tr>\n",
              "    <tr>\n",
              "      <th>177</th>\n",
              "      <td>389</td>\n",
              "      <td>18</td>\n",
              "      <td>O</td>\n",
              "    </tr>\n",
              "    <tr>\n",
              "      <th>178</th>\n",
              "      <td>390</td>\n",
              "      <td>18</td>\n",
              "      <td>O</td>\n",
              "    </tr>\n",
              "    <tr>\n",
              "      <th>179</th>\n",
              "      <td>391</td>\n",
              "      <td>18</td>\n",
              "      <td>O</td>\n",
              "    </tr>\n",
              "  </tbody>\n",
              "</table>\n",
              "<p>180 rows × 3 columns</p>\n",
              "</div>"
            ],
            "text/plain": [
              "      id  Sent_ID tag\n",
              "0    212       10   O\n",
              "1    213       10   O\n",
              "2    214       11   O\n",
              "3    215       11   O\n",
              "4    216       11   O\n",
              "..   ...      ...  ..\n",
              "175  387       18   O\n",
              "176  388       18   O\n",
              "177  389       18   O\n",
              "178  390       18   O\n",
              "179  391       18   O\n",
              "\n",
              "[180 rows x 3 columns]"
            ]
          },
          "metadata": {
            "tags": []
          },
          "execution_count": 35
        }
      ]
    },
    {
      "cell_type": "code",
      "metadata": {
        "id": "I-hE-yJZD0c1",
        "colab": {
          "base_uri": "https://localhost:8080/"
        },
        "outputId": "f91008ef-a45f-4bf4-ce7d-8dce2aa12b21"
      },
      "source": [
        "test_pred_bm['tag'].value_counts()"
      ],
      "execution_count": null,
      "outputs": [
        {
          "output_type": "execute_result",
          "data": {
            "text/plain": [
              "O                1451370\n",
              "B-indications      28439\n",
              "I-indications      16967\n",
              "Name: tag, dtype: int64"
            ]
          },
          "metadata": {
            "tags": []
          },
          "execution_count": 36
        }
      ]
    },
    {
      "cell_type": "code",
      "metadata": {
        "id": "FhWPdu-JNGMf",
        "colab": {
          "base_uri": "https://localhost:8080/"
        },
        "outputId": "72d63b4a-08fc-434e-eb8e-d8c09c19bc2e"
      },
      "source": [
        "calculate_score(test_df[['id', 'Sent_ID', 'tag']], test_pred_bm)"
      ],
      "execution_count": null,
      "outputs": [
        {
          "output_type": "execute_result",
          "data": {
            "text/plain": [
              "0.5213439101179085"
            ]
          },
          "metadata": {
            "tags": []
          },
          "execution_count": 37
        }
      ]
    },
    {
      "cell_type": "markdown",
      "metadata": {
        "id": "pwI7E6agNGMf"
      },
      "source": [
        "\n",
        "We can Update (further train) this sci spacy model on our train dataset to increase score "
      ]
    },
    {
      "cell_type": "code",
      "metadata": {
        "id": "nIztYgHRNGMf"
      },
      "source": [
        ""
      ],
      "execution_count": null,
      "outputs": []
    },
    {
      "cell_type": "markdown",
      "metadata": {
        "id": "Eq4hCsJpNGMf"
      },
      "source": [
        "### Create Spacy train dataset"
      ]
    },
    {
      "cell_type": "code",
      "metadata": {
        "id": "PdXaYkMoNGMf"
      },
      "source": [
        "def create_trn_data(df):\n",
        "    ent_pres = False\n",
        "    doc = \"\"\n",
        "    ents = []\n",
        "    new_ind = 0\n",
        "    \n",
        "    for i, r in df.iterrows():\n",
        "        w_len = len(str(r['Word']))\n",
        "        doc = doc + str(r['Word']) + \" \"\n",
        "        \n",
        "        if r['tag'] == 'O':\n",
        "            new_ind = new_ind + w_len + 1\n",
        "            \n",
        "        if r['tag'] == 'B-indications':\n",
        "            st = new_ind\n",
        "            en = st + w_len\n",
        "            ents.append((st, en, 'DISEASE'))\n",
        "            new_ind = en + 1\n",
        "            \n",
        "        if r['tag'] == 'I-indications':\n",
        "            en = new_ind + w_len\n",
        "            st = ents[-1][0]\n",
        "            ents = ents[0:-1]\n",
        "            ents.append((st, en, 'DISEASE'))\n",
        "            new_ind = en + 1\n",
        "    \n",
        "    if ents:\n",
        "        ent_pres = True\n",
        "    \n",
        "    out = (doc, {\"entities\": ents})\n",
        "    return pd.Series(dict(trn_data = out, ent_pres = ent_pres))\n"
      ],
      "execution_count": null,
      "outputs": []
    },
    {
      "cell_type": "code",
      "metadata": {
        "id": "AKvcSaWCNGMg"
      },
      "source": [
        "train_data = train_df.groupby('Sent_ID').apply(create_trn_data)"
      ],
      "execution_count": null,
      "outputs": []
    },
    {
      "cell_type": "code",
      "metadata": {
        "id": "0cHW-wIjNGMg",
        "colab": {
          "base_uri": "https://localhost:8080/",
          "height": 375
        },
        "outputId": "50250dba-43e5-4494-be7c-7fcab2a9f3f9"
      },
      "source": [
        "train_data.head(10)"
      ],
      "execution_count": null,
      "outputs": [
        {
          "output_type": "execute_result",
          "data": {
            "text/html": [
              "<div>\n",
              "<style scoped>\n",
              "    .dataframe tbody tr th:only-of-type {\n",
              "        vertical-align: middle;\n",
              "    }\n",
              "\n",
              "    .dataframe tbody tr th {\n",
              "        vertical-align: top;\n",
              "    }\n",
              "\n",
              "    .dataframe thead th {\n",
              "        text-align: right;\n",
              "    }\n",
              "</style>\n",
              "<table border=\"1\" class=\"dataframe\">\n",
              "  <thead>\n",
              "    <tr style=\"text-align: right;\">\n",
              "      <th></th>\n",
              "      <th>trn_data</th>\n",
              "      <th>ent_pres</th>\n",
              "    </tr>\n",
              "    <tr>\n",
              "      <th>Sent_ID</th>\n",
              "      <th></th>\n",
              "      <th></th>\n",
              "    </tr>\n",
              "  </thead>\n",
              "  <tbody>\n",
              "    <tr>\n",
              "      <th>1</th>\n",
              "      <td>(Obesity in Low- and Middle-Income Countries :...</td>\n",
              "      <td>False</td>\n",
              "    </tr>\n",
              "    <tr>\n",
              "      <th>2</th>\n",
              "      <td>(We have reviewed the distinctive features of ...</td>\n",
              "      <td>False</td>\n",
              "    </tr>\n",
              "    <tr>\n",
              "      <th>3</th>\n",
              "      <td>(Obesity is rising in every region of the worl...</td>\n",
              "      <td>False</td>\n",
              "    </tr>\n",
              "    <tr>\n",
              "      <th>4</th>\n",
              "      <td>(In LMICs , overweight is higher in women comp...</td>\n",
              "      <td>False</td>\n",
              "    </tr>\n",
              "    <tr>\n",
              "      <th>5</th>\n",
              "      <td>(Overweight occurs alongside persistent burden...</td>\n",
              "      <td>False</td>\n",
              "    </tr>\n",
              "    <tr>\n",
              "      <th>6</th>\n",
              "      <td>(Changes in the global diet and physical activ...</td>\n",
              "      <td>False</td>\n",
              "    </tr>\n",
              "    <tr>\n",
              "      <th>7</th>\n",
              "      <td>(Emerging risk factors include environmental c...</td>\n",
              "      <td>False</td>\n",
              "    </tr>\n",
              "    <tr>\n",
              "      <th>8</th>\n",
              "      <td>(Data on effective strategies to prevent the o...</td>\n",
              "      <td>True</td>\n",
              "    </tr>\n",
              "    <tr>\n",
              "      <th>9</th>\n",
              "      <td>(Expanding the research in this area is a key ...</td>\n",
              "      <td>False</td>\n",
              "    </tr>\n",
              "    <tr>\n",
              "      <th>25</th>\n",
              "      <td>(The putative chloride channel hCLCA2 has a si...</td>\n",
              "      <td>False</td>\n",
              "    </tr>\n",
              "  </tbody>\n",
              "</table>\n",
              "</div>"
            ],
            "text/plain": [
              "                                                  trn_data  ent_pres\n",
              "Sent_ID                                                             \n",
              "1        (Obesity in Low- and Middle-Income Countries :...     False\n",
              "2        (We have reviewed the distinctive features of ...     False\n",
              "3        (Obesity is rising in every region of the worl...     False\n",
              "4        (In LMICs , overweight is higher in women comp...     False\n",
              "5        (Overweight occurs alongside persistent burden...     False\n",
              "6        (Changes in the global diet and physical activ...     False\n",
              "7        (Emerging risk factors include environmental c...     False\n",
              "8        (Data on effective strategies to prevent the o...      True\n",
              "9        (Expanding the research in this area is a key ...     False\n",
              "25       (The putative chloride channel hCLCA2 has a si...     False"
            ]
          },
          "metadata": {
            "tags": []
          },
          "execution_count": 40
        }
      ]
    },
    {
      "cell_type": "code",
      "metadata": {
        "id": "Wn_Mt1v5NGMg",
        "colab": {
          "base_uri": "https://localhost:8080/"
        },
        "outputId": "19f5a159-3efd-4837-f19a-57a96e7b18a9"
      },
      "source": [
        "train_data.iloc[7]"
      ],
      "execution_count": null,
      "outputs": [
        {
          "output_type": "execute_result",
          "data": {
            "text/plain": [
              "trn_data    (Data on effective strategies to prevent the o...\n",
              "ent_pres                                                 True\n",
              "Name: 8, dtype: object"
            ]
          },
          "metadata": {
            "tags": []
          },
          "execution_count": 41
        }
      ]
    },
    {
      "cell_type": "code",
      "metadata": {
        "id": "pZEe5FHdoIba"
      },
      "source": [
        "train_data.iloc[1][\"trn_data\"]"
      ],
      "execution_count": null,
      "outputs": []
    },
    {
      "cell_type": "markdown",
      "metadata": {
        "id": "eqsOLMJyNGMg"
      },
      "source": [
        "### Train sci spacy model"
      ]
    },
    {
      "cell_type": "code",
      "metadata": {
        "id": "yDAjaVK7NGMg"
      },
      "source": [
        "def trn_model(model= None, output_dir=None, n_iter=10):\n",
        "    \"\"\"Load the model, set up the pipeline and train the entity recognizer.\"\"\"\n",
        "    if model is not None:\n",
        "        nlp = spacy.load(model)  # load existing spaCy model\n",
        "        print(\"Loaded model '%s'\" % model)\n",
        "    else:\n",
        "        nlp = spacy.blank(\"en\")  # create blank Language class\n",
        "        print(\"Created blank 'en' model\")\n",
        "\n",
        "    # create the built-in pipeline components and add them to the pipeline\n",
        "    # nlp.create_pipe works for built-ins that are registered with spaCy\n",
        "    if \"ner\" not in nlp.pipe_names:\n",
        "        ner = nlp.create_pipe(\"ner\")\n",
        "        nlp.add_pipe(ner, last=True)\n",
        "    # otherwise, get it so we can add labels\n",
        "    else:\n",
        "        ner = nlp.get_pipe(\"ner\")\n",
        "\n",
        "    # add labels\n",
        "    for _, annotations in TRAIN_DATA:\n",
        "        for ent in annotations.get(\"entities\"):\n",
        "            ner.add_label(ent[2])\n",
        "\n",
        "    # get names of other pipes to disable them during training\n",
        "    other_pipes = [pipe for pipe in nlp.pipe_names if pipe != \"ner\"]\n",
        "    with nlp.disable_pipes(*other_pipes):  # only train NER\n",
        "        # reset and initialize the weights randomly – but only if we're\n",
        "        # training a new model\n",
        "        if model is None:\n",
        "            nlp.begin_training()\n",
        "        for itn in range(n_iter):\n",
        "            random.shuffle(TRAIN_DATA)\n",
        "            losses = {}\n",
        "            # batch up the examples using spaCy's minibatch\n",
        "            batches = minibatch(TRAIN_DATA, size=compounding(4.0, 32.0, 1.001))\n",
        "            for batch in tqdm(batches):\n",
        "                texts, annotations = zip(*batch)\n",
        "                nlp.update(\n",
        "                    texts,  # batch of texts\n",
        "                    annotations,  # batch of annotations\n",
        "                    drop=0.3,  # dropout - make it harder to memorise data\n",
        "                    losses=losses,\n",
        "                )\n",
        "            print(\"Losses\", losses)\n",
        "    \n",
        "            # save model to output directory\n",
        "            if output_dir is not None:\n",
        "                output_dir = Path(output_dir)\n",
        "                if not output_dir.exists():\n",
        "                    output_dir.mkdir()\n",
        "                nlp.to_disk(output_dir)\n",
        "                print(\"Saved model to\", output_dir)\n",
        "\n",
        "    return nlp"
      ],
      "execution_count": null,
      "outputs": []
    },
    {
      "cell_type": "code",
      "metadata": {
        "id": "w0wJrjY7NGMg"
      },
      "source": [
        "TRAIN_DATA = train_data['trn_data'].tolist()"
      ],
      "execution_count": null,
      "outputs": []
    },
    {
      "cell_type": "code",
      "metadata": {
        "id": "LfaohWNeNGMg"
      },
      "source": [
        "MODEL = \"en_ner_bc5cdr_md\"\n",
        "OUT_DIR = \"/content/drive/MyDrive/IR-pro/Disease-Extraction/code/model_final\""
      ],
      "execution_count": null,
      "outputs": []
    },
    {
      "cell_type": "code",
      "metadata": {
        "id": "oRHU7TJPNGMg",
        "colab": {
          "base_uri": "https://localhost:8080/",
          "height": 478,
          "referenced_widgets": [
            "690197ebf8b94c158e2920dad29784b9",
            "8eaa857b5658434f902a2d1ca84ac9fd",
            "09c8f446ded94566b361be6a4e8e8264",
            "333cf76f28fd4c75be1026feee7337e7",
            "b5a09be8ea1b49ebb7bbf9353a3f8185",
            "d83aa7bf1697407cbf85669ea795ac30",
            "4f1c68162ebf4f1fae2dd1690b305e75",
            "40b2d11799334463a210bf9d34e95a1b",
            "370f11d93a2242eab1e23e14db141852",
            "5ba5a054f6e04f7bb10aba2731c955b0",
            "09ad0d31ff4345e58af5b4f313e6128b",
            "25cb6d812e0646f2a918cd997627787a",
            "efccca2e6ea446159e5a11159f327852",
            "318e1d75093e47019ecc74d0cd74e894",
            "b484fcce0d8e4862b1928870649dca8e",
            "2e60fd9af6cf4e17bb9758276dffa1eb",
            "af608b4440fe44de9305bfb4e204bf3b",
            "ac1959dbc3ce426fa0411396a964e6b3",
            "1751ef919aea423b938aa970188e5d0b",
            "4602cf24a1a6499587930ffd40b7f09b",
            "5efd577288a44c9bbefae28f1a766eb3",
            "c8e9d8798dfc4ec8ac23be0df449c312",
            "2f3e8b5e3d51409dbdbdc6ba26d811f8",
            "4e11e9de22b442738b65a8c31a5f0d11",
            "8c2f65d792a545d3a39f70c413c38195",
            "8745d2154c0f4f1f946a328c3dd09941",
            "7f75594acd7c4a0db53a088580e55093",
            "50bac33d54004d38a79c8ba586ee40e3",
            "d28bd475fede41829bf8d335c2a4b280",
            "05e5a6e90f164ee795c5e31b320a9927",
            "26554804ca2945d3829ab739b2b340e6",
            "738b4c2aba3d4050ad9889fe083b464f",
            "b5016a2429b945aea1a2c6e94e5284ae",
            "d819f4a019eb486c9b18075963e8f8d3",
            "cb32590f9cd946b5ad2a0bb317dc675a",
            "5d7e8139427749ef8660d44263abc469",
            "b076d9b538974371bf411196bc1d7fb5",
            "de10962471ce457d9b8ad9fbe265ef07",
            "6d7abc2c2e194b5486d725301d8d9fc8",
            "8ce652d9013c47149b7b63f6ebd7adea"
          ]
        },
        "outputId": "5f5352de-a23f-427a-b4ca-bfaa6d37f5a6"
      },
      "source": [
        "nlp1 = trn_model(MODEL, OUT_DIR, 5)"
      ],
      "execution_count": null,
      "outputs": [
        {
          "output_type": "stream",
          "text": [
            "Loaded model 'en_ner_bc5cdr_md'\n"
          ],
          "name": "stdout"
        },
        {
          "output_type": "stream",
          "text": [
            "/usr/local/lib/python3.6/dist-packages/ipykernel_launcher.py:36: TqdmDeprecationWarning: This function will be removed in tqdm==5.0.0\n",
            "Please use `tqdm.notebook.tqdm` instead of `tqdm.tqdm_notebook`\n"
          ],
          "name": "stderr"
        },
        {
          "output_type": "display_data",
          "data": {
            "application/vnd.jupyter.widget-view+json": {
              "model_id": "690197ebf8b94c158e2920dad29784b9",
              "version_minor": 0,
              "version_major": 2
            },
            "text/plain": [
              "HBox(children=(FloatProgress(value=1.0, bar_style='info', max=1.0), HTML(value='')))"
            ]
          },
          "metadata": {
            "tags": []
          }
        },
        {
          "output_type": "stream",
          "text": [
            "\n",
            "Losses {'ner': 39699.39966408337}\n",
            "Saved model to /content/drive/MyDrive/IR-pro/Disease-Extraction/code/model_final\n"
          ],
          "name": "stdout"
        },
        {
          "output_type": "display_data",
          "data": {
            "application/vnd.jupyter.widget-view+json": {
              "model_id": "370f11d93a2242eab1e23e14db141852",
              "version_minor": 0,
              "version_major": 2
            },
            "text/plain": [
              "HBox(children=(FloatProgress(value=1.0, bar_style='info', max=1.0), HTML(value='')))"
            ]
          },
          "metadata": {
            "tags": []
          }
        },
        {
          "output_type": "stream",
          "text": [
            "\n",
            "Losses {'ner': 32803.490870815134}\n",
            "Saved model to /content/drive/MyDrive/IR-pro/Disease-Extraction/code/model_final\n"
          ],
          "name": "stdout"
        },
        {
          "output_type": "display_data",
          "data": {
            "application/vnd.jupyter.widget-view+json": {
              "model_id": "af608b4440fe44de9305bfb4e204bf3b",
              "version_minor": 0,
              "version_major": 2
            },
            "text/plain": [
              "HBox(children=(FloatProgress(value=1.0, bar_style='info', max=1.0), HTML(value='')))"
            ]
          },
          "metadata": {
            "tags": []
          }
        },
        {
          "output_type": "stream",
          "text": [
            "\n",
            "Losses {'ner': 29189.849480660396}\n",
            "Saved model to /content/drive/MyDrive/IR-pro/Disease-Extraction/code/model_final\n"
          ],
          "name": "stdout"
        },
        {
          "output_type": "display_data",
          "data": {
            "application/vnd.jupyter.widget-view+json": {
              "model_id": "8c2f65d792a545d3a39f70c413c38195",
              "version_minor": 0,
              "version_major": 2
            },
            "text/plain": [
              "HBox(children=(FloatProgress(value=1.0, bar_style='info', max=1.0), HTML(value='')))"
            ]
          },
          "metadata": {
            "tags": []
          }
        },
        {
          "output_type": "stream",
          "text": [
            "\n",
            "Losses {'ner': 26935.696405625004}\n",
            "Saved model to /content/drive/MyDrive/IR-pro/Disease-Extraction/code/model_final\n"
          ],
          "name": "stdout"
        },
        {
          "output_type": "display_data",
          "data": {
            "application/vnd.jupyter.widget-view+json": {
              "model_id": "b5016a2429b945aea1a2c6e94e5284ae",
              "version_minor": 0,
              "version_major": 2
            },
            "text/plain": [
              "HBox(children=(FloatProgress(value=1.0, bar_style='info', max=1.0), HTML(value='')))"
            ]
          },
          "metadata": {
            "tags": []
          }
        },
        {
          "output_type": "stream",
          "text": [
            "\n",
            "Losses {'ner': 25338.343921546584}\n",
            "Saved model to /content/drive/MyDrive/IR-pro/Disease-Extraction/code/model_final\n"
          ],
          "name": "stdout"
        }
      ]
    },
    {
      "cell_type": "code",
      "metadata": {
        "id": "MK3q6voCejzX"
      },
      "source": [
        ""
      ],
      "execution_count": null,
      "outputs": []
    },
    {
      "cell_type": "markdown",
      "metadata": {
        "id": "VmsJ_J2FNGMg"
      },
      "source": [
        "#### Now let's predict on test set using this new updated model"
      ]
    },
    {
      "cell_type": "code",
      "metadata": {
        "id": "dmE6ftSXNGMg",
        "colab": {
          "base_uri": "https://localhost:8080/"
        },
        "outputId": "f2312573-5542-4758-8052-ca610803b3c6"
      },
      "source": [
        "# function to put nlp object in get_tag function\n",
        "def mp_get_tag(ids, st_inds, doc):\n",
        "    return get_tag(ids, st_inds, doc, nlp1)\n",
        "\n",
        "## Multiprocess code\n",
        "t1 = time.time()\n",
        "p = Pool(N_CORES)\n",
        "temp_data = list(p.starmap(mp_get_tag, zip(list(test_data['ids'].values), list(test_data['st_inds'].values), list(test_data['doc'].values))))\n",
        "p.close()\n",
        "p.join()\n",
        "p.terminate()\n",
        "print((time.time() - t1)/60, \" minutes\")"
      ],
      "execution_count": null,
      "outputs": [
        {
          "output_type": "stream",
          "text": [
            "4.452655212084452  minutes\n"
          ],
          "name": "stdout"
        }
      ]
    },
    {
      "cell_type": "code",
      "metadata": {
        "id": "1V3u3mEbNvaE",
        "colab": {
          "base_uri": "https://localhost:8080/",
          "height": 226
        },
        "outputId": "73b6bbd0-8978-41cc-8abf-d91e6fcd07c4"
      },
      "source": [
        "test_data.head()"
      ],
      "execution_count": null,
      "outputs": [
        {
          "output_type": "execute_result",
          "data": {
            "text/html": [
              "<div>\n",
              "<style scoped>\n",
              "    .dataframe tbody tr th:only-of-type {\n",
              "        vertical-align: middle;\n",
              "    }\n",
              "\n",
              "    .dataframe tbody tr th {\n",
              "        vertical-align: top;\n",
              "    }\n",
              "\n",
              "    .dataframe thead th {\n",
              "        text-align: right;\n",
              "    }\n",
              "</style>\n",
              "<table border=\"1\" class=\"dataframe\">\n",
              "  <thead>\n",
              "    <tr style=\"text-align: right;\">\n",
              "      <th></th>\n",
              "      <th>ids</th>\n",
              "      <th>st_inds</th>\n",
              "      <th>doc</th>\n",
              "    </tr>\n",
              "    <tr>\n",
              "      <th>Doc_ID</th>\n",
              "      <th></th>\n",
              "      <th></th>\n",
              "      <th></th>\n",
              "    </tr>\n",
              "  </thead>\n",
              "  <tbody>\n",
              "    <tr>\n",
              "      <th>2</th>\n",
              "      <td>[212, 213]</td>\n",
              "      <td>[0, 14]</td>\n",
              "      <td>MICROCEPHALIA VERA</td>\n",
              "    </tr>\n",
              "    <tr>\n",
              "      <th>3</th>\n",
              "      <td>[214, 215, 216, 217, 218, 219, 220, 221, 222, ...</td>\n",
              "      <td>[0, 10, 26, 29, 35, 43, 52, 60, 63, 70, 75, 89...</td>\n",
              "      <td>Excellent reproducibility of laser speckle con...</td>\n",
              "    </tr>\n",
              "    <tr>\n",
              "      <th>4</th>\n",
              "      <td>[519, 520, 521, 522, 523, 524, 525, 526, 527, ...</td>\n",
              "      <td>[0, 9, 19, 26, 29, 44, 47, 51, 63, 68, 74]</td>\n",
              "      <td>Positive inotropic action of cholinesterase on...</td>\n",
              "    </tr>\n",
              "    <tr>\n",
              "      <th>6</th>\n",
              "      <td>[830, 831, 832, 833, 834, 835, 836, 837, 838, ...</td>\n",
              "      <td>[0, 15, 20, 29, 37, 39, 44, 46, 48, 51, 60, 65...</td>\n",
              "      <td>Self-assembled drug delivery systems . Part 8 ...</td>\n",
              "    </tr>\n",
              "    <tr>\n",
              "      <th>7</th>\n",
              "      <td>[1066, 1067, 1068, 1069, 1070, 1071, 1072, 107...</td>\n",
              "      <td>[0, 12, 16, 23, 34, 37, 44, 54, 57, 77, 87, 92...</td>\n",
              "      <td>Hyperphagia and leptin resistance in tissue in...</td>\n",
              "    </tr>\n",
              "  </tbody>\n",
              "</table>\n",
              "</div>"
            ],
            "text/plain": [
              "                                                      ids  ...                                                doc\n",
              "Doc_ID                                                     ...                                                   \n",
              "2                                              [212, 213]  ...                                MICROCEPHALIA VERA \n",
              "3       [214, 215, 216, 217, 218, 219, 220, 221, 222, ...  ...  Excellent reproducibility of laser speckle con...\n",
              "4       [519, 520, 521, 522, 523, 524, 525, 526, 527, ...  ...  Positive inotropic action of cholinesterase on...\n",
              "6       [830, 831, 832, 833, 834, 835, 836, 837, 838, ...  ...  Self-assembled drug delivery systems . Part 8 ...\n",
              "7       [1066, 1067, 1068, 1069, 1070, 1071, 1072, 107...  ...  Hyperphagia and leptin resistance in tissue in...\n",
              "\n",
              "[5 rows x 3 columns]"
            ]
          },
          "metadata": {
            "tags": []
          },
          "execution_count": 85
        }
      ]
    },
    {
      "cell_type": "code",
      "metadata": {
        "id": "Ku6q90cwNGMg"
      },
      "source": [
        "B_pred_ids, I_pred_ids = get_B_I_ids(temp_data)\n",
        "test_pred_final = make_prediction(test_df, B_pred_ids, I_pred_ids)"
      ],
      "execution_count": null,
      "outputs": []
    },
    {
      "cell_type": "code",
      "metadata": {
        "id": "gAEWgvw3CffJ"
      },
      "source": [
        "''''for t in test_pred_final['tag']:\n",
        "    if t!= 'O':\n",
        "        print(test_pred_final['id'],t)'''"
      ],
      "execution_count": null,
      "outputs": []
    },
    {
      "cell_type": "code",
      "metadata": {
        "id": "q-U2kbJiNGMg",
        "colab": {
          "base_uri": "https://localhost:8080/",
          "height": 196
        },
        "outputId": "a0efb24a-afd0-4fb9-8118-f6c9926c3a4f"
      },
      "source": [
        "test_pred_final.tail()"
      ],
      "execution_count": null,
      "outputs": [
        {
          "output_type": "execute_result",
          "data": {
            "text/html": [
              "<div>\n",
              "<style scoped>\n",
              "    .dataframe tbody tr th:only-of-type {\n",
              "        vertical-align: middle;\n",
              "    }\n",
              "\n",
              "    .dataframe tbody tr th {\n",
              "        vertical-align: top;\n",
              "    }\n",
              "\n",
              "    .dataframe thead th {\n",
              "        text-align: right;\n",
              "    }\n",
              "</style>\n",
              "<table border=\"1\" class=\"dataframe\">\n",
              "  <thead>\n",
              "    <tr style=\"text-align: right;\">\n",
              "      <th></th>\n",
              "      <th>id</th>\n",
              "      <th>Sent_ID</th>\n",
              "      <th>tag</th>\n",
              "    </tr>\n",
              "  </thead>\n",
              "  <tbody>\n",
              "    <tr>\n",
              "      <th>1496771</th>\n",
              "      <td>4543366</td>\n",
              "      <td>191263</td>\n",
              "      <td>O</td>\n",
              "    </tr>\n",
              "    <tr>\n",
              "      <th>1496772</th>\n",
              "      <td>4543367</td>\n",
              "      <td>191263</td>\n",
              "      <td>O</td>\n",
              "    </tr>\n",
              "    <tr>\n",
              "      <th>1496773</th>\n",
              "      <td>4543368</td>\n",
              "      <td>191263</td>\n",
              "      <td>O</td>\n",
              "    </tr>\n",
              "    <tr>\n",
              "      <th>1496774</th>\n",
              "      <td>4543369</td>\n",
              "      <td>191263</td>\n",
              "      <td>O</td>\n",
              "    </tr>\n",
              "    <tr>\n",
              "      <th>1496775</th>\n",
              "      <td>4543370</td>\n",
              "      <td>191263</td>\n",
              "      <td>O</td>\n",
              "    </tr>\n",
              "  </tbody>\n",
              "</table>\n",
              "</div>"
            ],
            "text/plain": [
              "              id  Sent_ID tag\n",
              "1496771  4543366   191263   O\n",
              "1496772  4543367   191263   O\n",
              "1496773  4543368   191263   O\n",
              "1496774  4543369   191263   O\n",
              "1496775  4543370   191263   O"
            ]
          },
          "metadata": {
            "tags": []
          },
          "execution_count": 98
        }
      ]
    },
    {
      "cell_type": "code",
      "metadata": {
        "id": "SkTOID1INGMg",
        "colab": {
          "base_uri": "https://localhost:8080/"
        },
        "outputId": "e0d50c15-bc79-4d99-8933-874df1eb3999"
      },
      "source": [
        "test_pred_final['tag'].value_counts()"
      ],
      "execution_count": null,
      "outputs": [
        {
          "output_type": "execute_result",
          "data": {
            "text/plain": [
              "O                1470599\n",
              "B-indications      14836\n",
              "I-indications      11341\n",
              "Name: tag, dtype: int64"
            ]
          },
          "metadata": {
            "tags": []
          },
          "execution_count": 52
        }
      ]
    },
    {
      "cell_type": "code",
      "metadata": {
        "id": "98HPGeo6NGMh",
        "colab": {
          "base_uri": "https://localhost:8080/"
        },
        "outputId": "afa4c81e-6225-4155-897a-c18c6dd5140b"
      },
      "source": [
        "calculate_score(test_df[['id', 'Sent_ID', 'tag']], test_pred_final)"
      ],
      "execution_count": null,
      "outputs": [
        {
          "output_type": "execute_result",
          "data": {
            "text/plain": [
              "0.7815614274490345"
            ]
          },
          "metadata": {
            "tags": []
          },
          "execution_count": 53
        }
      ]
    },
    {
      "cell_type": "code",
      "metadata": {
        "id": "VwSTcm_xmPq-"
      },
      "source": [
        "#test_pred_final.loc[\"B-indications\"]\n",
        "fin_lst=test_pred_final.values.tolist()\n",
        "#print(fin_lst[:10])\n",
        "for i in fin_lst:\n",
        "    if i[2]!='O':\n",
        "        print(i)\n",
        "        print()\n"
      ],
      "execution_count": null,
      "outputs": []
    },
    {
      "cell_type": "code",
      "metadata": {
        "id": "tOjdq_3_0WQA"
      },
      "source": [
        "tst=test_data.values.tolist()\n",
        "#print(tst[0])\n",
        "for i in tst:\n",
        "    if 4083144 in i[0]:\n",
        "        print(i[2])\n",
        "        text=i[2]\n",
        "doc = nlp1(text)\n",
        "[(e.text, e.start_char, e.end_char, e.label_) for e in doc.ents]"
      ],
      "execution_count": null,
      "outputs": []
    },
    {
      "cell_type": "code",
      "metadata": {
        "id": "zy1Hu4_CJjh0"
      },
      "source": [
        "text1=\"The Italian Diabetes and Exercise Study 2 ( IDES-2 ) : a long-term behavioral intervention for adoption and maintenance of a physically active lifestyle . Physical activity ( PA ) /exercise have become an integral part of the management of type 2 diabetes mellitus ( T2DM ) . However , current guidelines are difficult to put into action in this population due to a number of barriers , especially the lack of acceptable , feasible , and validated behavioral intervention strategies . The present manuscript reports the rationale , study design and methods , and design considerations of the Italian Diabetes and Exercise Study ( IDES ) -2 , a randomized controlled trial testing the efficacy of a behavior change strategy in increasing total daily PA and reducing sedentary time ( SED-time ) in patients with T2DM . Starting 7 January 2014 , the IDES_2 began enrolling 300 patients with known T2DM of at least 1-year duration in three tertiary referral outpatient Diabetes Clinics in Rome . Additional requirements are age 40 to 80 years , body mass index 27 to 40 kg/m ( 2 ) , sedentary lifestyle , and physically inactive for at least 6 months , ability to walk 1.6 km without assistance , and eligibility after cardiovascular evaluation . Patients are randomized by center and within each center , by age and type of diabetes treatment to either the intervention or the control group . Patients in the intervention ( INT ) group ( n = 150 ) receive theoretical and practical exercise counseling consisting of aggregated behavior change techniques ( one individual theoretical counseling session plus eight twice-a-week individual theoretical and practical exercise counseling sessions ) once a year for 3 years . Patients in the control ( CON ) group ( n = 150 ) , receive standard care , including general physician recommendations for daily PA . The primary outcomes are total daily PA and SED-time , as measured objectively by the use of an accelerometer . Secondary outcomes include physical fitness , modifiable cardiovascular risk factors , musculoskeletal disturbances , well-being/depression , and health-related quality of life . The behavioral intervention strategy tested in the IDES_2 is based on solid theoretical grounds and uses several behavioral change techniques , two factors which were found to improve effectiveness of behavioral intervention . In addition , physicians and exercise specialists have been specifically trained for counselling/prescribing and supervising PA/exercise , respectively , in subjects suffering from metabolic disorders . Finally , the large sample size , the long study duration , and the objective measurement of PA allow statistically significant and scientifically robust conclusions to be drawn on the feasibility and efficacy of this intervention in T2DM patients . ClinicalTrials.gov ; NCT01600937 ; 10 October 2012 . \"\n",
        "text=\"Dissociation of acute and chronic intermittent phencyclidine-induced performance deficits in the 5-choice serial reaction time task : influence of clozapine . Cognitive deficits are a core feature of schizophrenia that respond minimally to existing drugs . PCP is commonly used to model schizophrenia-like deficits preclinically although different dosing protocols may affect different domains . Here we characterise the acute , and chronic intermittent effects of PCP in the 5-choice serial reaction time task ( 5-CSRTT ) in rats , and assess the effects of clozapine . In a novel approach , we also assess the effects of increased inhibitory load and conduct clinically relevant signal detection analysis ( SDA ) . The effects of acute and repeated PCP ( 2.58 mg/kg ) treatment on attentional processes and inhibitory control were assessed during and following the chronic treatment regime in the presence or absence of chronic clozapine ( 20 mg/kg/day ) . Thirty minutes post-PCP injection , there was an increase in anticipatory responding which disappeared after 24 h. Although , acute PCP did not change accuracy of responding or processing speed , repeated PCP revealed delayed deficits in cognitive processing speed which were partly ameliorated by clozapine . Extended inter-trial intervals increased premature responding , while SDA revealed that clozapine modified persistent PCP-induced deficits in lnBeta ( a composite measure of risk taking versus caution ) . Acute NMDA receptor antagonism impairs inhibitory control , whereas repeated treatment produces delayed deficits in cognitive processing speed . The ability of clozapine partially to restore persistent PCP-induced deficits in processing speed and in lnBeta is consistent with clinical findings . This suggests that the enduring effects of repeated PCP treatment , combined with SDA , offers a useful , translational , approach to evaluate novel cognitive enhancers in the 5-CSRTT . \"\n",
        "doc = nlp(text)\n",
        "[(e.text, e.start_char, e.end_char, e.label_) for e in doc.ents]"
      ],
      "execution_count": null,
      "outputs": []
    },
    {
      "cell_type": "code",
      "metadata": {
        "colab": {
          "base_uri": "https://localhost:8080/"
        },
        "id": "GYSLtZ_6PXdJ",
        "outputId": "e02a90c4-01c4-464c-bb17-d22125e34676"
      },
      "source": [
        "text1=\"The Italian Diabetes and Exercise Study 2 ( IDES-2 ) : a long-term behavioral intervention for adoption and maintenance of a physically active lifestyle . Physical activity ( PA ) /exercise have become an integral part of the management of type 2 diabetes mellitus ( T2DM ) . However , current guidelines are difficult to put into action in this population due to a number of barriers , especially the lack of acceptable , feasible , and validated behavioral intervention strategies . The present manuscript reports the rationale , study design and methods , and design considerations of the Italian Diabetes and Exercise Study ( IDES ) -2 , a randomized controlled trial testing the efficacy of a behavior change strategy in increasing total daily PA and reducing sedentary time ( SED-time ) in patients with T2DM . Starting 7 January 2014 , the IDES_2 began enrolling 300 patients with known T2DM of at least 1-year duration in three tertiary referral outpatient Diabetes Clinics in Rome . Additional requirements are age 40 to 80 years , body mass index 27 to 40 kg/m ( 2 ) , sedentary lifestyle , and physically inactive for at least 6 months , ability to walk 1.6 km without assistance , and eligibility after cardiovascular evaluation . Patients are randomized by center and within each center , by age and type of diabetes treatment to either the intervention or the control group . Patients in the intervention ( INT ) group ( n = 150 ) receive theoretical and practical exercise counseling consisting of aggregated behavior change techniques ( one individual theoretical counseling session plus eight twice-a-week individual theoretical and practical exercise counseling sessions ) once a year for 3 years . Patients in the control ( CON ) group ( n = 150 ) , receive standard care , including general physician recommendations for daily PA . The primary outcomes are total daily PA and SED-time , as measured objectively by the use of an accelerometer . Secondary outcomes include physical fitness , modifiable cardiovascular risk factors , musculoskeletal disturbances , well-being/depression , and health-related quality of life . The behavioral intervention strategy tested in the IDES_2 is based on solid theoretical grounds and uses several behavioral change techniques , two factors which were found to improve effectiveness of behavioral intervention . In addition , physicians and exercise specialists have been specifically trained for counselling/prescribing and supervising PA/exercise , respectively , in subjects suffering from metabolic disorders . Finally , the large sample size , the long study duration , and the objective measurement of PA allow statistically significant and scientifically robust conclusions to be drawn on the feasibility and efficacy of this intervention in T2DM patients . ClinicalTrials.gov ; NCT01600937 ; 10 October 2012 . \"\n",
        "text=\"Dissociation of acute and chronic intermittent phencyclidine-induced performance deficits in the 5-choice serial reaction time task : influence of clozapine . Cognitive deficits are a core feature of schizophrenia that respond minimally to existing drugs . PCP is commonly used to model schizophrenia-like deficits preclinically although different dosing protocols may affect different domains . Here we characterise the acute , and chronic intermittent effects of PCP in the 5-choice serial reaction time task ( 5-CSRTT ) in rats , and assess the effects of clozapine . In a novel approach , we also assess the effects of increased inhibitory load and conduct clinically relevant signal detection analysis ( SDA ) . The effects of acute and repeated PCP ( 2.58 mg/kg ) treatment on attentional processes and inhibitory control were assessed during and following the chronic treatment regime in the presence or absence of chronic clozapine ( 20 mg/kg/day ) . Thirty minutes post-PCP injection , there was an increase in anticipatory responding which disappeared after 24 h. Although , acute PCP did not change accuracy of responding or processing speed , repeated PCP revealed delayed deficits in cognitive processing speed which were partly ameliorated by clozapine . Extended inter-trial intervals increased premature responding , while SDA revealed that clozapine modified persistent PCP-induced deficits in lnBeta ( a composite measure of risk taking versus caution ) . Acute NMDA receptor antagonism impairs inhibitory control , whereas repeated treatment produces delayed deficits in cognitive processing speed . The ability of clozapine partially to restore persistent PCP-induced deficits in processing speed and in lnBeta is consistent with clinical findings . This suggests that the enduring effects of repeated PCP treatment , combined with SDA , offers a useful , translational , approach to evaluate novel cognitive enhancers in the 5-CSRTT . \"\n",
        "doc = nlp1(text1)\n",
        "[(e.text, e.start_char, e.end_char, e.label_) for e in doc.ents]"
      ],
      "execution_count": null,
      "outputs": [
        {
          "output_type": "execute_result",
          "data": {
            "text/plain": [
              "[('type 2 diabetes mellitus', 240, 264, 'DISEASE'),\n",
              " ('T2DM', 267, 271, 'DISEASE'),\n",
              " ('strategies', 472, 482, 'DISEASE'),\n",
              " ('T2DM', 810, 814, 'DISEASE'),\n",
              " ('T2DM', 894, 898, 'DISEASE'),\n",
              " ('metabolic disorders', 2551, 2570, 'DISEASE'),\n",
              " ('T2DM', 2807, 2811, 'DISEASE')]"
            ]
          },
          "metadata": {
            "tags": []
          },
          "execution_count": 108
        }
      ]
    }
  ]
}